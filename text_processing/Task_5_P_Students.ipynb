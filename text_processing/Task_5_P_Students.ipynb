{
  "cells": [
    {
      "cell_type": "markdown",
      "metadata": {
        "id": "885nCnaEi6Zq"
      },
      "source": [
        "В этом задании мы рассмотрим работу UDpipe с двумя моделями:\n",
        "\n",
        "* предварительно обученной на SynTagRus [link](https://universaldependencies.org/treebanks/ru_syntagrus/index.html)\n",
        "* обученной на Taiga [link](https://universaldependencies.org/treebanks/ru_taiga/index.html)"
      ]
    },
    {
      "cell_type": "markdown",
      "metadata": {
        "id": "Xi3sqi2ni6Zw"
      },
      "source": [
        "## Подключение необходимых модулей"
      ]
    },
    {
      "cell_type": "code",
      "execution_count": 58,
      "metadata": {
        "id": "pFELL0b6i6Zz"
      },
      "outputs": [],
      "source": [
        "! pip install -q conllu\n",
        "! pip install -q graphviz\n",
        "! pip install -q ufal.udpipe"
      ]
    },
    {
      "cell_type": "markdown",
      "metadata": {
        "id": "-w82dt3Ki6aJ"
      },
      "source": [
        "## Загрузка моделей"
      ]
    },
    {
      "cell_type": "code",
      "execution_count": 59,
      "metadata": {
        "id": "kDboaNgQi6aK"
      },
      "outputs": [],
      "source": [
        "!wget -q 'https://lindat.mff.cuni.cz/repository/xmlui/bitstream/handle/11234/1-3131/russian-syntagrus-ud-2.5-191206.udpipe'\n",
        "!wget -q 'https://lindat.mff.cuni.cz/repository/xmlui/bitstream/handle/11234/1-3131/russian-taiga-ud-2.5-191206.udpipe'"
      ]
    },
    {
      "cell_type": "markdown",
      "metadata": {
        "id": "05htpbLZi6as"
      },
      "source": [
        "На этом подготовка материалов завершена, переходим к написанию кода для синтаксического анализа"
      ]
    },
    {
      "cell_type": "markdown",
      "metadata": {
        "id": "4RfK9-zii6aw"
      },
      "source": [
        "## Подключение библиотек"
      ]
    },
    {
      "cell_type": "code",
      "execution_count": 60,
      "metadata": {
        "id": "dmf7LI_0i6ax"
      },
      "outputs": [],
      "source": [
        "import sys\n",
        "\n",
        "from conllu import parse\n",
        "from graphviz import Digraph\n",
        "from ufal.udpipe import Model, Pipeline, ProcessingError"
      ]
    },
    {
      "cell_type": "markdown",
      "metadata": {
        "id": "ufl9Rvugi6a3"
      },
      "source": [
        "## Настройка работы с моделями"
      ]
    },
    {
      "cell_type": "code",
      "execution_count": 61,
      "metadata": {
        "colab": {
          "base_uri": "https://localhost:8080/"
        },
        "id": "Rj7bbVu4i6a4",
        "outputId": "27eac1e3-d58d-4f00-9f24-2e1b488476ac"
      },
      "outputs": [
        {
          "output_type": "stream",
          "name": "stdout",
          "text": [
            "Loading model:russian-syntagrus-ud-2.5-191206.udpipe\n",
            "Loading done\n",
            "Loading model:russian-taiga-ud-2.5-191206.udpipe\n",
            "Loading done\n"
          ]
        }
      ],
      "source": [
        "INPUT_FORMAT = \"tokenize\"\n",
        "OUTPUT_FORMAT = \"conllu\"\n",
        "SYNTAGRUS_MODEL_FILE = \"russian-syntagrus-ud-2.5-191206.udpipe\"\n",
        "TAIGA_MODEL_FILE = \"russian-taiga-ud-2.5-191206.udpipe\"\n",
        "\n",
        "print(\"Loading model:\" + SYNTAGRUS_MODEL_FILE)\n",
        "syntagrus_model = Model.load(SYNTAGRUS_MODEL_FILE)\n",
        "print(\"Loading done\")\n",
        "\n",
        "print(\"Loading model:\" + TAIGA_MODEL_FILE)\n",
        "taiga_model = Model.load(TAIGA_MODEL_FILE)\n",
        "print(\"Loading done\")"
      ]
    },
    {
      "cell_type": "markdown",
      "metadata": {
        "id": "eFV0w_Xmi6bA"
      },
      "source": [
        "## Построение цепочки обработки"
      ]
    },
    {
      "cell_type": "markdown",
      "metadata": {
        "id": "201ztaiki6bB"
      },
      "source": [
        "Строим цепочку обработки  -- от сырого текста до синтаксического дерева"
      ]
    },
    {
      "cell_type": "code",
      "execution_count": 62,
      "metadata": {
        "id": "NQxfMF_3i6bC"
      },
      "outputs": [],
      "source": [
        "syntagrus_pipeline = Pipeline(syntagrus_model, INPUT_FORMAT,\n",
        "                              Pipeline.DEFAULT, Pipeline.DEFAULT, OUTPUT_FORMAT)\n",
        "taiga_pipeline = Pipeline(taiga_model, INPUT_FORMAT,\n",
        "                          Pipeline.DEFAULT, Pipeline.DEFAULT, OUTPUT_FORMAT)\n",
        "\n",
        "error = ProcessingError()"
      ]
    },
    {
      "cell_type": "markdown",
      "metadata": {
        "id": "4rmXlR1ei6bI"
      },
      "source": [
        "Применение собственно цепочки обработки к сырому тексту; вывод в формате CoNLL-U."
      ]
    },
    {
      "cell_type": "code",
      "execution_count": 63,
      "metadata": {
        "id": "MJedzauNi6bJ"
      },
      "outputs": [],
      "source": [
        "def parse_syntax(raw_text, pipeline):\n",
        "    \"\"\" Applying UDPipe \"\"\"\n",
        "    text = raw_text.strip()\n",
        "\n",
        "    # Process data\n",
        "    processed = pipeline.process(text, error)\n",
        "\n",
        "    if error.occurred():\n",
        "        sys.stderr.write(\"An error occurred when running run_udpipe: \")\n",
        "        sys.stderr.write(error.message)\n",
        "        sys.stderr.write(\"\\n\")\n",
        "\n",
        "    return processed"
      ]
    },
    {
      "cell_type": "markdown",
      "metadata": {
        "id": "CHD7DOp3i6bP"
      },
      "source": [
        "Создадим два разбора, которые и будем сравнивать."
      ]
    },
    {
      "cell_type": "code",
      "execution_count": 64,
      "metadata": {
        "id": "svFDIXCli6bS"
      },
      "outputs": [],
      "source": [
        "# SENTANCE = \"Порвались о прибрежные скалы бедные мои зелёные башмачки.\"\n",
        "# SENTANCE = \"Ударная волна выбила стёкла в этом домике.\"\n",
        "# SENTANCE = \"Реальность не присутствует даже в качестве приправы.\"\n",
        "SENTANCE = \"Оказывается , здесь в обязанности преподавателя входит при необходимости заменять секретаршу на телефоне .\"\n",
        "\n",
        "syntag = parse_syntax(SENTANCE, syntagrus_pipeline)\n",
        "taiga = parse_syntax(SENTANCE, taiga_pipeline)"
      ]
    },
    {
      "cell_type": "markdown",
      "metadata": {
        "id": "9JqN3OWvqbuV"
      },
      "source": [
        "Разбор предложения в текстовом виде будет выглядеть следующим образом:"
      ]
    },
    {
      "cell_type": "code",
      "execution_count": 65,
      "metadata": {
        "colab": {
          "base_uri": "https://localhost:8080/"
        },
        "id": "IciMoyh0qbuW",
        "outputId": "a65f2ecf-7a3a-4d06-fe44-d486987a388e"
      },
      "outputs": [
        {
          "output_type": "stream",
          "name": "stdout",
          "text": [
            "# newdoc\n",
            "# newpar\n",
            "# sent_id = 1\n",
            "# text = Оказывается , здесь в обязанности преподавателя входит при необходимости заменять секретаршу на телефоне .\n",
            "1\tОказывается\tоказываться\tVERB\t_\tAspect=Imp|Mood=Ind|Number=Sing|Person=3|Tense=Pres|VerbForm=Fin|Voice=Mid\t0\troot\t_\t_\n",
            "2\t,\t,\tPUNCT\t_\t_\t7\tpunct\t_\t_\n",
            "3\tздесь\tздесь\tADV\t_\tDegree=Pos\t7\tadvmod\t_\t_\n",
            "4\tв\tв\tADP\t_\t_\t5\tcase\t_\t_\n",
            "5\tобязанности\tобязанность\tNOUN\t_\tAnimacy=Inan|Case=Loc|Gender=Fem|Number=Sing\t7\tobl\t_\t_\n",
            "6\tпреподавателя\tпреподаватель\tNOUN\t_\tAnimacy=Inan|Case=Nom|Gender=Fem|Number=Sing\t7\tnsubj\t_\t_\n",
            "7\tвходит\tвходить\tVERB\t_\tAspect=Imp|Mood=Ind|Number=Sing|Person=3|Tense=Pres|VerbForm=Fin|Voice=Act\t1\tconj\t_\t_\n",
            "8\tпри\tпри\tADP\t_\t_\t9\tcase\t_\t_\n",
            "9\tнеобходимости\tнеобходимость\tNOUN\t_\tAnimacy=Inan|Case=Loc|Gender=Fem|Number=Sing\t10\tobl\t_\t_\n",
            "10\tзаменять\tзаменять\tVERB\t_\tAspect=Perf|VerbForm=Inf|Voice=Act\t1\txcomp\t_\t_\n",
            "11\tсекретаршу\tсекретарша\tNOUN\t_\tAnimacy=Inan|Case=Acc|Gender=Fem|Number=Sing\t10\tobj\t_\t_\n",
            "12\tна\tна\tADP\t_\t_\t13\tcase\t_\t_\n",
            "13\tтелефоне\tтелефон\tNOUN\t_\tAnimacy=Inan|Case=Dat|Gender=Fem|Number=Sing\t10\tobl\t_\t_\n",
            "14\t.\t.\tPUNCT\t_\t_\t1\tpunct\t_\tSpacesAfter=\\n\n",
            "\n",
            "\n"
          ]
        }
      ],
      "source": [
        "print(taiga)"
      ]
    },
    {
      "cell_type": "markdown",
      "metadata": {
        "id": "jYKnnwqVqbuZ"
      },
      "source": [
        "Понятно, что в таком виде производить расчеты не очень удобно. Для вычисления LAS и UAS сначала представим деревья разбора в виде графов."
      ]
    },
    {
      "cell_type": "markdown",
      "metadata": {
        "id": "LGkqQEi1qbua"
      },
      "source": [
        "## Графововое представление дерева разбора\n",
        "\n",
        "Методами библиотеки `conllu` превращаем выданный нам udpipe разбор в формате CoNLL-U в дерево, с которым удобно работать.\n",
        "\n",
        "С помощью стандартного обхода в ширину наполняем рёбрами объект Digraph для последующей визуализации дерева с помощью `graphviz`."
      ]
    },
    {
      "cell_type": "code",
      "execution_count": 66,
      "metadata": {
        "id": "jQ6zzoRni6bo"
      },
      "outputs": [],
      "source": [
        "from conllu import parse\n",
        "from graphviz import Digraph\n",
        "\n",
        "def parse_output(conll):\n",
        "    \"\"\"\n",
        "        Preparing the dependency tree for further processing\n",
        "    \"\"\"\n",
        "    sentences = parse(conll)\n",
        "    return [s.to_tree() for s  in sentences]\n",
        "\n",
        "\n",
        "class Root(object):\n",
        "  def __init__(self, child):\n",
        "    self.token = {\"form\": \"\", \"id\": 0, \"deprel\": \"root\"}\n",
        "    self.children = [child]\n",
        "\n",
        "def draw_tree(tree):\n",
        "    \"\"\" Drawing a dependency tree for debugging stuff \"\"\"\n",
        "\n",
        "    g = Digraph(format='png')\n",
        "\n",
        "    # a queue for tree traversal\n",
        "    queue = [Root(tree)]\n",
        "\n",
        "    while len(queue) > 0:\n",
        "\n",
        "        head = queue.pop()\n",
        "        head_label = head.token[\"form\"] + \" (%d)\" % head.token[\"id\"]\n",
        "        queue.extend(head.children)\n",
        "\n",
        "        for c in head.children:\n",
        "            c_label = c.token[\"form\"] + \" (%d)\" %  c.token[\"id\"]\n",
        "            g.edge(head_label, c_label, label=c.token[\"deprel\"])\n",
        "\n",
        "    return g"
      ]
    },
    {
      "cell_type": "markdown",
      "metadata": {
        "id": "PGp5oQbUi6cQ"
      },
      "source": [
        "Построим оба дерева"
      ]
    },
    {
      "cell_type": "code",
      "execution_count": 67,
      "metadata": {
        "id": "woGZyXqCqbuf"
      },
      "outputs": [],
      "source": [
        "str_tree = parse_output(syntag.strip())[0]\n",
        "taiga_tree = parse_output(taiga.strip())[0]"
      ]
    },
    {
      "cell_type": "code",
      "execution_count": 68,
      "metadata": {
        "colab": {
          "base_uri": "https://localhost:8080/",
          "height": 661
        },
        "id": "ICivSE4eqbuh",
        "outputId": "7619ea01-e9d6-49b8-fcd5-052b2e38697d"
      },
      "outputs": [
        {
          "output_type": "execute_result",
          "data": {
            "image/svg+xml": "<?xml version=\"1.0\" encoding=\"UTF-8\" standalone=\"no\"?>\n<!DOCTYPE svg PUBLIC \"-//W3C//DTD SVG 1.1//EN\"\n \"http://www.w3.org/Graphics/SVG/1.1/DTD/svg11.dtd\">\n<!-- Generated by graphviz version 2.43.0 (0)\n -->\n<!-- Title: %3 Pages: 1 -->\n<svg width=\"798pt\" height=\"479pt\"\n viewBox=\"0.00 0.00 797.84 479.00\" xmlns=\"http://www.w3.org/2000/svg\" xmlns:xlink=\"http://www.w3.org/1999/xlink\">\n<g id=\"graph0\" class=\"graph\" transform=\"scale(1 1) rotate(0) translate(4 475)\">\n<title>%3</title>\n<polygon fill=\"white\" stroke=\"transparent\" points=\"-4,4 -4,-475 793.84,-475 793.84,4 -4,4\"/>\n<!--  (0) -->\n<g id=\"node1\" class=\"node\">\n<title> (0)</title>\n<ellipse fill=\"none\" stroke=\"black\" cx=\"340.14\" cy=\"-453\" rx=\"27\" ry=\"18\"/>\n<text text-anchor=\"middle\" x=\"340.14\" y=\"-449.3\" font-family=\"Times,serif\" font-size=\"14.00\"> (0)</text>\n</g>\n<!-- входит (7) -->\n<g id=\"node2\" class=\"node\">\n<title>входит (7)</title>\n<ellipse fill=\"none\" stroke=\"black\" cx=\"340.14\" cy=\"-366\" rx=\"50.09\" ry=\"18\"/>\n<text text-anchor=\"middle\" x=\"340.14\" y=\"-362.3\" font-family=\"Times,serif\" font-size=\"14.00\">входит (7)</text>\n</g>\n<!--  (0)&#45;&gt;входит (7) -->\n<g id=\"edge1\" class=\"edge\">\n<title> (0)&#45;&gt;входит (7)</title>\n<path fill=\"none\" stroke=\"black\" d=\"M340.14,-434.8C340.14,-423.16 340.14,-407.55 340.14,-394.24\"/>\n<polygon fill=\"black\" stroke=\"black\" points=\"343.64,-394.18 340.14,-384.18 336.64,-394.18 343.64,-394.18\"/>\n<text text-anchor=\"middle\" x=\"351.14\" y=\"-405.8\" font-family=\"Times,serif\" font-size=\"14.00\">root</text>\n</g>\n<!-- Оказывается (1) -->\n<g id=\"node3\" class=\"node\">\n<title>Оказывается (1)</title>\n<ellipse fill=\"none\" stroke=\"black\" cx=\"72.14\" cy=\"-279\" rx=\"72.29\" ry=\"18\"/>\n<text text-anchor=\"middle\" x=\"72.14\" y=\"-275.3\" font-family=\"Times,serif\" font-size=\"14.00\">Оказывается (1)</text>\n</g>\n<!-- входит (7)&#45;&gt;Оказывается (1) -->\n<g id=\"edge2\" class=\"edge\">\n<title>входит (7)&#45;&gt;Оказывается (1)</title>\n<path fill=\"none\" stroke=\"black\" d=\"M300.42,-354.97C275.03,-348.36 241.48,-339.23 212.14,-330 181.01,-320.2 146.47,-307.88 119.49,-297.92\"/>\n<polygon fill=\"black\" stroke=\"black\" points=\"120.5,-294.56 109.91,-294.37 118.07,-301.13 120.5,-294.56\"/>\n<text text-anchor=\"middle\" x=\"236.64\" y=\"-318.8\" font-family=\"Times,serif\" font-size=\"14.00\">parataxis</text>\n</g>\n<!-- здесь (3) -->\n<g id=\"node4\" class=\"node\">\n<title>здесь (3)</title>\n<ellipse fill=\"none\" stroke=\"black\" cx=\"206.14\" cy=\"-279\" rx=\"44.39\" ry=\"18\"/>\n<text text-anchor=\"middle\" x=\"206.14\" y=\"-275.3\" font-family=\"Times,serif\" font-size=\"14.00\">здесь (3)</text>\n</g>\n<!-- входит (7)&#45;&gt;здесь (3) -->\n<g id=\"edge3\" class=\"edge\">\n<title>входит (7)&#45;&gt;здесь (3)</title>\n<path fill=\"none\" stroke=\"black\" d=\"M316.5,-350C294.55,-336.08 261.72,-315.25 237.57,-299.94\"/>\n<polygon fill=\"black\" stroke=\"black\" points=\"239.43,-296.97 229.11,-294.57 235.68,-302.88 239.43,-296.97\"/>\n<text text-anchor=\"middle\" x=\"304.64\" y=\"-318.8\" font-family=\"Times,serif\" font-size=\"14.00\">advmod</text>\n</g>\n<!-- обязанности (5) -->\n<g id=\"node5\" class=\"node\">\n<title>обязанности (5)</title>\n<ellipse fill=\"none\" stroke=\"black\" cx=\"340.14\" cy=\"-279\" rx=\"71.49\" ry=\"18\"/>\n<text text-anchor=\"middle\" x=\"340.14\" y=\"-275.3\" font-family=\"Times,serif\" font-size=\"14.00\">обязанности (5)</text>\n</g>\n<!-- входит (7)&#45;&gt;обязанности (5) -->\n<g id=\"edge4\" class=\"edge\">\n<title>входит (7)&#45;&gt;обязанности (5)</title>\n<path fill=\"none\" stroke=\"black\" d=\"M340.14,-347.8C340.14,-336.16 340.14,-320.55 340.14,-307.24\"/>\n<polygon fill=\"black\" stroke=\"black\" points=\"343.64,-307.18 340.14,-297.18 336.64,-307.18 343.64,-307.18\"/>\n<text text-anchor=\"middle\" x=\"349.14\" y=\"-318.8\" font-family=\"Times,serif\" font-size=\"14.00\">obl</text>\n</g>\n<!-- необходимости (9) -->\n<g id=\"node6\" class=\"node\">\n<title>необходимости (9)</title>\n<ellipse fill=\"none\" stroke=\"black\" cx=\"512.14\" cy=\"-279\" rx=\"82.59\" ry=\"18\"/>\n<text text-anchor=\"middle\" x=\"512.14\" y=\"-275.3\" font-family=\"Times,serif\" font-size=\"14.00\">необходимости (9)</text>\n</g>\n<!-- входит (7)&#45;&gt;необходимости (9) -->\n<g id=\"edge5\" class=\"edge\">\n<title>входит (7)&#45;&gt;необходимости (9)</title>\n<path fill=\"none\" stroke=\"black\" d=\"M368.55,-350.96C396.6,-337.1 439.78,-315.76 471.46,-300.1\"/>\n<polygon fill=\"black\" stroke=\"black\" points=\"473.07,-303.21 480.49,-295.64 469.97,-296.94 473.07,-303.21\"/>\n<text text-anchor=\"middle\" x=\"446.14\" y=\"-318.8\" font-family=\"Times,serif\" font-size=\"14.00\">obl</text>\n</g>\n<!-- . (14) -->\n<g id=\"node7\" class=\"node\">\n<title>. (14)</title>\n<ellipse fill=\"none\" stroke=\"black\" cx=\"643.14\" cy=\"-279\" rx=\"30.59\" ry=\"18\"/>\n<text text-anchor=\"middle\" x=\"643.14\" y=\"-275.3\" font-family=\"Times,serif\" font-size=\"14.00\">. (14)</text>\n</g>\n<!-- входит (7)&#45;&gt;. (14) -->\n<g id=\"edge6\" class=\"edge\">\n<title>входит (7)&#45;&gt;. (14)</title>\n<path fill=\"none\" stroke=\"black\" d=\"M382.36,-356.3C435,-344.96 527.4,-323.42 604.14,-297 606.24,-296.28 608.39,-295.49 610.54,-294.66\"/>\n<polygon fill=\"black\" stroke=\"black\" points=\"611.93,-297.87 619.87,-290.86 609.29,-291.39 611.93,-297.87\"/>\n<text text-anchor=\"middle\" x=\"563.64\" y=\"-318.8\" font-family=\"Times,serif\" font-size=\"14.00\">punct</text>\n</g>\n<!-- , (2) -->\n<g id=\"node15\" class=\"node\">\n<title>, (2)</title>\n<ellipse fill=\"none\" stroke=\"black\" cx=\"72.14\" cy=\"-192\" rx=\"27\" ry=\"18\"/>\n<text text-anchor=\"middle\" x=\"72.14\" y=\"-188.3\" font-family=\"Times,serif\" font-size=\"14.00\">, (2)</text>\n</g>\n<!-- Оказывается (1)&#45;&gt;, (2) -->\n<g id=\"edge14\" class=\"edge\">\n<title>Оказывается (1)&#45;&gt;, (2)</title>\n<path fill=\"none\" stroke=\"black\" d=\"M72.14,-260.8C72.14,-249.16 72.14,-233.55 72.14,-220.24\"/>\n<polygon fill=\"black\" stroke=\"black\" points=\"75.64,-220.18 72.14,-210.18 68.64,-220.18 75.64,-220.18\"/>\n<text text-anchor=\"middle\" x=\"87.64\" y=\"-231.8\" font-family=\"Times,serif\" font-size=\"14.00\">punct</text>\n</g>\n<!-- в (4) -->\n<g id=\"node13\" class=\"node\">\n<title>в (4)</title>\n<ellipse fill=\"none\" stroke=\"black\" cx=\"224.14\" cy=\"-192\" rx=\"27.9\" ry=\"18\"/>\n<text text-anchor=\"middle\" x=\"224.14\" y=\"-188.3\" font-family=\"Times,serif\" font-size=\"14.00\">в (4)</text>\n</g>\n<!-- обязанности (5)&#45;&gt;в (4) -->\n<g id=\"edge12\" class=\"edge\">\n<title>обязанности (5)&#45;&gt;в (4)</title>\n<path fill=\"none\" stroke=\"black\" d=\"M318.05,-261.81C298.73,-247.65 270.63,-227.06 250.21,-212.1\"/>\n<polygon fill=\"black\" stroke=\"black\" points=\"252.11,-209.15 241.97,-206.07 247.97,-214.8 252.11,-209.15\"/>\n<text text-anchor=\"middle\" x=\"301.14\" y=\"-231.8\" font-family=\"Times,serif\" font-size=\"14.00\">case</text>\n</g>\n<!-- преподавателя (6) -->\n<g id=\"node14\" class=\"node\">\n<title>преподавателя (6)</title>\n<ellipse fill=\"none\" stroke=\"black\" cx=\"349.14\" cy=\"-192\" rx=\"79.09\" ry=\"18\"/>\n<text text-anchor=\"middle\" x=\"349.14\" y=\"-188.3\" font-family=\"Times,serif\" font-size=\"14.00\">преподавателя (6)</text>\n</g>\n<!-- обязанности (5)&#45;&gt;преподавателя (6) -->\n<g id=\"edge13\" class=\"edge\">\n<title>обязанности (5)&#45;&gt;преподавателя (6)</title>\n<path fill=\"none\" stroke=\"black\" d=\"M341.96,-260.8C343.2,-249.16 344.85,-233.55 346.26,-220.24\"/>\n<polygon fill=\"black\" stroke=\"black\" points=\"349.75,-220.49 347.33,-210.18 342.79,-219.75 349.75,-220.49\"/>\n<text text-anchor=\"middle\" x=\"362.14\" y=\"-231.8\" font-family=\"Times,serif\" font-size=\"14.00\">nmod</text>\n</g>\n<!-- при (8) -->\n<g id=\"node8\" class=\"node\">\n<title>при (8)</title>\n<ellipse fill=\"none\" stroke=\"black\" cx=\"502.14\" cy=\"-192\" rx=\"37.89\" ry=\"18\"/>\n<text text-anchor=\"middle\" x=\"502.14\" y=\"-188.3\" font-family=\"Times,serif\" font-size=\"14.00\">при (8)</text>\n</g>\n<!-- необходимости (9)&#45;&gt;при (8) -->\n<g id=\"edge7\" class=\"edge\">\n<title>необходимости (9)&#45;&gt;при (8)</title>\n<path fill=\"none\" stroke=\"black\" d=\"M510.12,-260.8C508.75,-249.16 506.91,-233.55 505.35,-220.24\"/>\n<polygon fill=\"black\" stroke=\"black\" points=\"508.81,-219.7 504.16,-210.18 501.86,-220.52 508.81,-219.7\"/>\n<text text-anchor=\"middle\" x=\"520.14\" y=\"-231.8\" font-family=\"Times,serif\" font-size=\"14.00\">case</text>\n</g>\n<!-- заменять (10) -->\n<g id=\"node9\" class=\"node\">\n<title>заменять (10)</title>\n<ellipse fill=\"none\" stroke=\"black\" cx=\"620.14\" cy=\"-192\" rx=\"62.29\" ry=\"18\"/>\n<text text-anchor=\"middle\" x=\"620.14\" y=\"-188.3\" font-family=\"Times,serif\" font-size=\"14.00\">заменять (10)</text>\n</g>\n<!-- необходимости (9)&#45;&gt;заменять (10) -->\n<g id=\"edge8\" class=\"edge\">\n<title>необходимости (9)&#45;&gt;заменять (10)</title>\n<path fill=\"none\" stroke=\"black\" d=\"M533.22,-261.41C549.83,-248.34 573.16,-229.98 591.47,-215.57\"/>\n<polygon fill=\"black\" stroke=\"black\" points=\"593.79,-218.2 599.48,-209.26 589.46,-212.69 593.79,-218.2\"/>\n<text text-anchor=\"middle\" x=\"582.14\" y=\"-231.8\" font-family=\"Times,serif\" font-size=\"14.00\">obl</text>\n</g>\n<!-- секретаршу (11) -->\n<g id=\"node10\" class=\"node\">\n<title>секретаршу (11)</title>\n<ellipse fill=\"none\" stroke=\"black\" cx=\"572.14\" cy=\"-105\" rx=\"72.29\" ry=\"18\"/>\n<text text-anchor=\"middle\" x=\"572.14\" y=\"-101.3\" font-family=\"Times,serif\" font-size=\"14.00\">секретаршу (11)</text>\n</g>\n<!-- заменять (10)&#45;&gt;секретаршу (11) -->\n<g id=\"edge9\" class=\"edge\">\n<title>заменять (10)&#45;&gt;секретаршу (11)</title>\n<path fill=\"none\" stroke=\"black\" d=\"M610.66,-174.21C603.87,-162.18 594.59,-145.75 586.84,-132.03\"/>\n<polygon fill=\"black\" stroke=\"black\" points=\"589.74,-130.04 581.77,-123.05 583.64,-133.48 589.74,-130.04\"/>\n<text text-anchor=\"middle\" x=\"608.14\" y=\"-144.8\" font-family=\"Times,serif\" font-size=\"14.00\">obj</text>\n</g>\n<!-- телефоне (13) -->\n<g id=\"node11\" class=\"node\">\n<title>телефоне (13)</title>\n<ellipse fill=\"none\" stroke=\"black\" cx=\"726.14\" cy=\"-105\" rx=\"63.89\" ry=\"18\"/>\n<text text-anchor=\"middle\" x=\"726.14\" y=\"-101.3\" font-family=\"Times,serif\" font-size=\"14.00\">телефоне (13)</text>\n</g>\n<!-- заменять (10)&#45;&gt;телефоне (13) -->\n<g id=\"edge10\" class=\"edge\">\n<title>заменять (10)&#45;&gt;телефоне (13)</title>\n<path fill=\"none\" stroke=\"black\" d=\"M640.58,-174.61C656.86,-161.56 679.83,-143.14 697.87,-128.67\"/>\n<polygon fill=\"black\" stroke=\"black\" points=\"700.16,-131.33 705.77,-122.34 695.78,-125.86 700.16,-131.33\"/>\n<text text-anchor=\"middle\" x=\"689.14\" y=\"-144.8\" font-family=\"Times,serif\" font-size=\"14.00\">obl</text>\n</g>\n<!-- на (12) -->\n<g id=\"node12\" class=\"node\">\n<title>на (12)</title>\n<ellipse fill=\"none\" stroke=\"black\" cx=\"726.14\" cy=\"-18\" rx=\"36.29\" ry=\"18\"/>\n<text text-anchor=\"middle\" x=\"726.14\" y=\"-14.3\" font-family=\"Times,serif\" font-size=\"14.00\">на (12)</text>\n</g>\n<!-- телефоне (13)&#45;&gt;на (12) -->\n<g id=\"edge11\" class=\"edge\">\n<title>телефоне (13)&#45;&gt;на (12)</title>\n<path fill=\"none\" stroke=\"black\" d=\"M726.14,-86.8C726.14,-75.16 726.14,-59.55 726.14,-46.24\"/>\n<polygon fill=\"black\" stroke=\"black\" points=\"729.64,-46.18 726.14,-36.18 722.64,-46.18 729.64,-46.18\"/>\n<text text-anchor=\"middle\" x=\"738.14\" y=\"-57.8\" font-family=\"Times,serif\" font-size=\"14.00\">case</text>\n</g>\n</g>\n</svg>\n",
            "text/plain": [
              "<graphviz.graphs.Digraph at 0x7be0afb847d0>"
            ]
          },
          "metadata": {},
          "execution_count": 68
        }
      ],
      "source": [
        "draw_tree(str_tree)"
      ]
    },
    {
      "cell_type": "code",
      "execution_count": 69,
      "metadata": {
        "colab": {
          "base_uri": "https://localhost:8080/",
          "height": 545
        },
        "id": "a_8Oxw6Bqbuj",
        "outputId": "eb48a5dc-8845-442b-db49-db58608e87b6"
      },
      "outputs": [
        {
          "output_type": "execute_result",
          "data": {
            "image/svg+xml": "<?xml version=\"1.0\" encoding=\"UTF-8\" standalone=\"no\"?>\n<!DOCTYPE svg PUBLIC \"-//W3C//DTD SVG 1.1//EN\"\n \"http://www.w3.org/Graphics/SVG/1.1/DTD/svg11.dtd\">\n<!-- Generated by graphviz version 2.43.0 (0)\n -->\n<!-- Title: %3 Pages: 1 -->\n<svg width=\"998pt\" height=\"392pt\"\n viewBox=\"0.00 0.00 997.69 392.00\" xmlns=\"http://www.w3.org/2000/svg\" xmlns:xlink=\"http://www.w3.org/1999/xlink\">\n<g id=\"graph0\" class=\"graph\" transform=\"scale(1 1) rotate(0) translate(4 388)\">\n<title>%3</title>\n<polygon fill=\"white\" stroke=\"transparent\" points=\"-4,4 -4,-388 993.69,-388 993.69,4 -4,4\"/>\n<!--  (0) -->\n<g id=\"node1\" class=\"node\">\n<title> (0)</title>\n<ellipse fill=\"none\" stroke=\"black\" cx=\"728\" cy=\"-366\" rx=\"27\" ry=\"18\"/>\n<text text-anchor=\"middle\" x=\"728\" y=\"-362.3\" font-family=\"Times,serif\" font-size=\"14.00\"> (0)</text>\n</g>\n<!-- Оказывается (1) -->\n<g id=\"node2\" class=\"node\">\n<title>Оказывается (1)</title>\n<ellipse fill=\"none\" stroke=\"black\" cx=\"728\" cy=\"-279\" rx=\"72.29\" ry=\"18\"/>\n<text text-anchor=\"middle\" x=\"728\" y=\"-275.3\" font-family=\"Times,serif\" font-size=\"14.00\">Оказывается (1)</text>\n</g>\n<!--  (0)&#45;&gt;Оказывается (1) -->\n<g id=\"edge1\" class=\"edge\">\n<title> (0)&#45;&gt;Оказывается (1)</title>\n<path fill=\"none\" stroke=\"black\" d=\"M728,-347.8C728,-336.16 728,-320.55 728,-307.24\"/>\n<polygon fill=\"black\" stroke=\"black\" points=\"731.5,-307.18 728,-297.18 724.5,-307.18 731.5,-307.18\"/>\n<text text-anchor=\"middle\" x=\"739\" y=\"-318.8\" font-family=\"Times,serif\" font-size=\"14.00\">root</text>\n</g>\n<!-- входит (7) -->\n<g id=\"node3\" class=\"node\">\n<title>входит (7)</title>\n<ellipse fill=\"none\" stroke=\"black\" cx=\"250\" cy=\"-192\" rx=\"50.09\" ry=\"18\"/>\n<text text-anchor=\"middle\" x=\"250\" y=\"-188.3\" font-family=\"Times,serif\" font-size=\"14.00\">входит (7)</text>\n</g>\n<!-- Оказывается (1)&#45;&gt;входит (7) -->\n<g id=\"edge2\" class=\"edge\">\n<title>Оказывается (1)&#45;&gt;входит (7)</title>\n<path fill=\"none\" stroke=\"black\" d=\"M670.82,-267.83C577.76,-251.28 394.83,-218.75 303.92,-202.59\"/>\n<polygon fill=\"black\" stroke=\"black\" points=\"304.29,-199.1 293.83,-200.79 303.06,-205.99 304.29,-199.1\"/>\n<text text-anchor=\"middle\" x=\"530\" y=\"-231.8\" font-family=\"Times,serif\" font-size=\"14.00\">conj</text>\n</g>\n<!-- заменять (10) -->\n<g id=\"node4\" class=\"node\">\n<title>заменять (10)</title>\n<ellipse fill=\"none\" stroke=\"black\" cx=\"728\" cy=\"-192\" rx=\"62.29\" ry=\"18\"/>\n<text text-anchor=\"middle\" x=\"728\" y=\"-188.3\" font-family=\"Times,serif\" font-size=\"14.00\">заменять (10)</text>\n</g>\n<!-- Оказывается (1)&#45;&gt;заменять (10) -->\n<g id=\"edge3\" class=\"edge\">\n<title>Оказывается (1)&#45;&gt;заменять (10)</title>\n<path fill=\"none\" stroke=\"black\" d=\"M728,-260.8C728,-249.16 728,-233.55 728,-220.24\"/>\n<polygon fill=\"black\" stroke=\"black\" points=\"731.5,-220.18 728,-210.18 724.5,-220.18 731.5,-220.18\"/>\n<text text-anchor=\"middle\" x=\"747\" y=\"-231.8\" font-family=\"Times,serif\" font-size=\"14.00\">xcomp</text>\n</g>\n<!-- . (14) -->\n<g id=\"node5\" class=\"node\">\n<title>. (14)</title>\n<ellipse fill=\"none\" stroke=\"black\" cx=\"839\" cy=\"-192\" rx=\"30.59\" ry=\"18\"/>\n<text text-anchor=\"middle\" x=\"839\" y=\"-188.3\" font-family=\"Times,serif\" font-size=\"14.00\">. (14)</text>\n</g>\n<!-- Оказывается (1)&#45;&gt;. (14) -->\n<g id=\"edge4\" class=\"edge\">\n<title>Оказывается (1)&#45;&gt;. (14)</title>\n<path fill=\"none\" stroke=\"black\" d=\"M749.4,-261.61C767.51,-247.74 793.53,-227.82 812.87,-213.01\"/>\n<polygon fill=\"black\" stroke=\"black\" points=\"815.15,-215.67 820.97,-206.81 810.9,-210.11 815.15,-215.67\"/>\n<text text-anchor=\"middle\" x=\"806.5\" y=\"-231.8\" font-family=\"Times,serif\" font-size=\"14.00\">punct</text>\n</g>\n<!-- , (2) -->\n<g id=\"node11\" class=\"node\">\n<title>, (2)</title>\n<ellipse fill=\"none\" stroke=\"black\" cx=\"27\" cy=\"-105\" rx=\"27\" ry=\"18\"/>\n<text text-anchor=\"middle\" x=\"27\" y=\"-101.3\" font-family=\"Times,serif\" font-size=\"14.00\">, (2)</text>\n</g>\n<!-- входит (7)&#45;&gt;, (2) -->\n<g id=\"edge10\" class=\"edge\">\n<title>входит (7)&#45;&gt;, (2)</title>\n<path fill=\"none\" stroke=\"black\" d=\"M212.52,-180.06C191.11,-173.57 163.85,-164.88 140,-156 105.11,-143.01 96.95,-138.29 63,-123 61.2,-122.19 59.36,-121.35 57.51,-120.5\"/>\n<polygon fill=\"black\" stroke=\"black\" points=\"58.8,-117.24 48.26,-116.2 55.85,-123.59 58.8,-117.24\"/>\n<text text-anchor=\"middle\" x=\"155.5\" y=\"-144.8\" font-family=\"Times,serif\" font-size=\"14.00\">punct</text>\n</g>\n<!-- здесь (3) -->\n<g id=\"node12\" class=\"node\">\n<title>здесь (3)</title>\n<ellipse fill=\"none\" stroke=\"black\" cx=\"116\" cy=\"-105\" rx=\"44.39\" ry=\"18\"/>\n<text text-anchor=\"middle\" x=\"116\" y=\"-101.3\" font-family=\"Times,serif\" font-size=\"14.00\">здесь (3)</text>\n</g>\n<!-- входит (7)&#45;&gt;здесь (3) -->\n<g id=\"edge11\" class=\"edge\">\n<title>входит (7)&#45;&gt;здесь (3)</title>\n<path fill=\"none\" stroke=\"black\" d=\"M226.35,-176C204.4,-162.08 171.58,-141.25 147.43,-125.94\"/>\n<polygon fill=\"black\" stroke=\"black\" points=\"149.28,-122.97 138.96,-120.57 145.53,-128.88 149.28,-122.97\"/>\n<text text-anchor=\"middle\" x=\"214.5\" y=\"-144.8\" font-family=\"Times,serif\" font-size=\"14.00\">advmod</text>\n</g>\n<!-- обязанности (5) -->\n<g id=\"node13\" class=\"node\">\n<title>обязанности (5)</title>\n<ellipse fill=\"none\" stroke=\"black\" cx=\"250\" cy=\"-105\" rx=\"71.49\" ry=\"18\"/>\n<text text-anchor=\"middle\" x=\"250\" y=\"-101.3\" font-family=\"Times,serif\" font-size=\"14.00\">обязанности (5)</text>\n</g>\n<!-- входит (7)&#45;&gt;обязанности (5) -->\n<g id=\"edge12\" class=\"edge\">\n<title>входит (7)&#45;&gt;обязанности (5)</title>\n<path fill=\"none\" stroke=\"black\" d=\"M250,-173.8C250,-162.16 250,-146.55 250,-133.24\"/>\n<polygon fill=\"black\" stroke=\"black\" points=\"253.5,-133.18 250,-123.18 246.5,-133.18 253.5,-133.18\"/>\n<text text-anchor=\"middle\" x=\"259\" y=\"-144.8\" font-family=\"Times,serif\" font-size=\"14.00\">obl</text>\n</g>\n<!-- преподавателя (6) -->\n<g id=\"node14\" class=\"node\">\n<title>преподавателя (6)</title>\n<ellipse fill=\"none\" stroke=\"black\" cx=\"419\" cy=\"-105\" rx=\"79.09\" ry=\"18\"/>\n<text text-anchor=\"middle\" x=\"419\" y=\"-101.3\" font-family=\"Times,serif\" font-size=\"14.00\">преподавателя (6)</text>\n</g>\n<!-- входит (7)&#45;&gt;преподавателя (6) -->\n<g id=\"edge13\" class=\"edge\">\n<title>входит (7)&#45;&gt;преподавателя (6)</title>\n<path fill=\"none\" stroke=\"black\" d=\"M277.91,-176.96C305.35,-163.16 347.53,-141.95 378.63,-126.31\"/>\n<polygon fill=\"black\" stroke=\"black\" points=\"380.53,-129.26 387.9,-121.64 377.39,-123.01 380.53,-129.26\"/>\n<text text-anchor=\"middle\" x=\"360\" y=\"-144.8\" font-family=\"Times,serif\" font-size=\"14.00\">nsubj</text>\n</g>\n<!-- необходимости (9) -->\n<g id=\"node6\" class=\"node\">\n<title>необходимости (9)</title>\n<ellipse fill=\"none\" stroke=\"black\" cx=\"599\" cy=\"-105\" rx=\"82.59\" ry=\"18\"/>\n<text text-anchor=\"middle\" x=\"599\" y=\"-101.3\" font-family=\"Times,serif\" font-size=\"14.00\">необходимости (9)</text>\n</g>\n<!-- заменять (10)&#45;&gt;необходимости (9) -->\n<g id=\"edge5\" class=\"edge\">\n<title>заменять (10)&#45;&gt;необходимости (9)</title>\n<path fill=\"none\" stroke=\"black\" d=\"M704.04,-175.21C683.84,-161.9 654.72,-142.72 632.27,-127.92\"/>\n<polygon fill=\"black\" stroke=\"black\" points=\"633.99,-124.86 623.71,-122.28 630.14,-130.71 633.99,-124.86\"/>\n<text text-anchor=\"middle\" x=\"681\" y=\"-144.8\" font-family=\"Times,serif\" font-size=\"14.00\">obl</text>\n</g>\n<!-- секретаршу (11) -->\n<g id=\"node7\" class=\"node\">\n<title>секретаршу (11)</title>\n<ellipse fill=\"none\" stroke=\"black\" cx=\"772\" cy=\"-105\" rx=\"72.29\" ry=\"18\"/>\n<text text-anchor=\"middle\" x=\"772\" y=\"-101.3\" font-family=\"Times,serif\" font-size=\"14.00\">секретаршу (11)</text>\n</g>\n<!-- заменять (10)&#45;&gt;секретаршу (11) -->\n<g id=\"edge6\" class=\"edge\">\n<title>заменять (10)&#45;&gt;секретаршу (11)</title>\n<path fill=\"none\" stroke=\"black\" d=\"M736.9,-173.8C743.15,-161.74 751.6,-145.4 758.65,-131.79\"/>\n<polygon fill=\"black\" stroke=\"black\" points=\"761.77,-133.38 763.26,-122.89 755.55,-130.16 761.77,-133.38\"/>\n<text text-anchor=\"middle\" x=\"762\" y=\"-144.8\" font-family=\"Times,serif\" font-size=\"14.00\">obj</text>\n</g>\n<!-- телефоне (13) -->\n<g id=\"node8\" class=\"node\">\n<title>телефоне (13)</title>\n<ellipse fill=\"none\" stroke=\"black\" cx=\"926\" cy=\"-105\" rx=\"63.89\" ry=\"18\"/>\n<text text-anchor=\"middle\" x=\"926\" y=\"-101.3\" font-family=\"Times,serif\" font-size=\"14.00\">телефоне (13)</text>\n</g>\n<!-- заменять (10)&#45;&gt;телефоне (13) -->\n<g id=\"edge7\" class=\"edge\">\n<title>заменять (10)&#45;&gt;телефоне (13)</title>\n<path fill=\"none\" stroke=\"black\" d=\"M761.59,-176.58C795.11,-162.19 846.75,-140.02 883.2,-124.38\"/>\n<polygon fill=\"black\" stroke=\"black\" points=\"884.77,-127.51 892.58,-120.35 882.01,-121.08 884.77,-127.51\"/>\n<text text-anchor=\"middle\" x=\"848\" y=\"-144.8\" font-family=\"Times,serif\" font-size=\"14.00\">obl</text>\n</g>\n<!-- при (8) -->\n<g id=\"node10\" class=\"node\">\n<title>при (8)</title>\n<ellipse fill=\"none\" stroke=\"black\" cx=\"599\" cy=\"-18\" rx=\"37.89\" ry=\"18\"/>\n<text text-anchor=\"middle\" x=\"599\" y=\"-14.3\" font-family=\"Times,serif\" font-size=\"14.00\">при (8)</text>\n</g>\n<!-- необходимости (9)&#45;&gt;при (8) -->\n<g id=\"edge9\" class=\"edge\">\n<title>необходимости (9)&#45;&gt;при (8)</title>\n<path fill=\"none\" stroke=\"black\" d=\"M599,-86.8C599,-75.16 599,-59.55 599,-46.24\"/>\n<polygon fill=\"black\" stroke=\"black\" points=\"602.5,-46.18 599,-36.18 595.5,-46.18 602.5,-46.18\"/>\n<text text-anchor=\"middle\" x=\"611\" y=\"-57.8\" font-family=\"Times,serif\" font-size=\"14.00\">case</text>\n</g>\n<!-- на (12) -->\n<g id=\"node9\" class=\"node\">\n<title>на (12)</title>\n<ellipse fill=\"none\" stroke=\"black\" cx=\"926\" cy=\"-18\" rx=\"36.29\" ry=\"18\"/>\n<text text-anchor=\"middle\" x=\"926\" y=\"-14.3\" font-family=\"Times,serif\" font-size=\"14.00\">на (12)</text>\n</g>\n<!-- телефоне (13)&#45;&gt;на (12) -->\n<g id=\"edge8\" class=\"edge\">\n<title>телефоне (13)&#45;&gt;на (12)</title>\n<path fill=\"none\" stroke=\"black\" d=\"M926,-86.8C926,-75.16 926,-59.55 926,-46.24\"/>\n<polygon fill=\"black\" stroke=\"black\" points=\"929.5,-46.18 926,-36.18 922.5,-46.18 929.5,-46.18\"/>\n<text text-anchor=\"middle\" x=\"938\" y=\"-57.8\" font-family=\"Times,serif\" font-size=\"14.00\">case</text>\n</g>\n<!-- в (4) -->\n<g id=\"node15\" class=\"node\">\n<title>в (4)</title>\n<ellipse fill=\"none\" stroke=\"black\" cx=\"250\" cy=\"-18\" rx=\"27.9\" ry=\"18\"/>\n<text text-anchor=\"middle\" x=\"250\" y=\"-14.3\" font-family=\"Times,serif\" font-size=\"14.00\">в (4)</text>\n</g>\n<!-- обязанности (5)&#45;&gt;в (4) -->\n<g id=\"edge14\" class=\"edge\">\n<title>обязанности (5)&#45;&gt;в (4)</title>\n<path fill=\"none\" stroke=\"black\" d=\"M250,-86.8C250,-75.16 250,-59.55 250,-46.24\"/>\n<polygon fill=\"black\" stroke=\"black\" points=\"253.5,-46.18 250,-36.18 246.5,-46.18 253.5,-46.18\"/>\n<text text-anchor=\"middle\" x=\"262\" y=\"-57.8\" font-family=\"Times,serif\" font-size=\"14.00\">case</text>\n</g>\n</g>\n</svg>\n",
            "text/plain": [
              "<graphviz.graphs.Digraph at 0x7be0afa74910>"
            ]
          },
          "metadata": {},
          "execution_count": 69
        }
      ],
      "source": [
        "draw_tree(taiga_tree)"
      ]
    },
    {
      "cell_type": "markdown",
      "metadata": {
        "id": "jU8n4urmqbul"
      },
      "source": [
        "Теперь можно переходить к расчету метрик"
      ]
    },
    {
      "cell_type": "markdown",
      "metadata": {
        "id": "VI1qm9bGqbuo"
      },
      "source": [
        "## Вычисление LAS и UAS\n",
        "\n",
        "Для этого набираем множества всех рёбер с метками и без и смотрим на размеры пересечений."
      ]
    },
    {
      "cell_type": "code",
      "execution_count": 70,
      "metadata": {
        "id": "fEetAmXx6wAM"
      },
      "outputs": [],
      "source": [
        "def edges_sets(tree):\n",
        "  \"\"\" Reading edges encoded as strings \"\"\"\n",
        "\n",
        "  edges_labeled = []\n",
        "  edges_unlabeled = []\n",
        "  queue = [Root(tree)]\n",
        "\n",
        "  while len(queue) > 0:\n",
        "    head = queue.pop()\n",
        "    head_label = head.token[\"form\"] + \" (%d)\" % head.token[\"id\"]\n",
        "    queue.extend(head.children)\n",
        "\n",
        "    for c in head.children:\n",
        "      c_label = c.token[\"form\"] + \" (%d)\" %  c.token[\"id\"]\n",
        "      edges_unlabeled.append((head_label, c_label))\n",
        "      edges_labeled.append((head_label, c_label, c.token[\"deprel\"]))\n",
        "\n",
        "  return set(edges_labeled), set(edges_unlabeled)"
      ]
    },
    {
      "cell_type": "code",
      "execution_count": 71,
      "metadata": {
        "colab": {
          "base_uri": "https://localhost:8080/",
          "height": 36
        },
        "id": "SCT4HgK_i6cU",
        "outputId": "4a463e7d-6d2c-4be4-9de6-5bd5e2eb5eab"
      },
      "outputs": [
        {
          "output_type": "execute_result",
          "data": {
            "text/plain": [
              "'LAS: 0.500 UAS: 0.500'"
            ],
            "application/vnd.google.colaboratory.intrinsic+json": {
              "type": "string"
            }
          },
          "metadata": {},
          "execution_count": 71
        }
      ],
      "source": [
        "def accuracy(gold, pred):\n",
        "  gold_labeled, gold_unlabeled = edges_sets(gold)\n",
        "  pred_labeled, pred_unlabeled = edges_sets(pred)\n",
        "\n",
        "  return len(gold_labeled.intersection(pred_labeled)) / len(gold_labeled), \\\n",
        "          len(gold_unlabeled.intersection(pred_unlabeled)) / len(gold_unlabeled)\n",
        "\n",
        "LAS, UAS = accuracy(str_tree, taiga_tree)\n",
        "\"LAS: %.3f UAS: %.3f\" % (LAS, UAS)"
      ]
    },
    {
      "cell_type": "markdown",
      "metadata": {
        "id": "XPsQ9gBtrKVL"
      },
      "source": [
        "Можно заметить, что в первом случае слово <code>башмачки</code> зависит от слова <code>порвались</code>, а во втором -- от слова <code>скалы</code>.\n",
        "Отдельно хотим напомнить, что таким образом корректно сравнивать парсеры только в том случае, когда токензация полностью совпадает."
      ]
    },
    {
      "cell_type": "markdown",
      "metadata": {
        "id": "n08jVsZwu_5R"
      },
      "source": [
        "## Вычисление глубины дерева"
      ]
    },
    {
      "cell_type": "markdown",
      "metadata": {
        "id": "B9LoRI_Hu_5R"
      },
      "source": [
        "Вычислим глубину дерева, например, для разбора модели taiga (ребро root не учитывается).\n",
        "\n",
        "Для этого также можно использовать, например, обход в ширину."
      ]
    },
    {
      "cell_type": "code",
      "execution_count": 72,
      "metadata": {
        "colab": {
          "base_uri": "https://localhost:8080/"
        },
        "id": "_WKDvvPxi6cX",
        "outputId": "be1c209b-3c7a-4a45-ea46-eadc26b89c0c"
      },
      "outputs": [
        {
          "output_type": "stream",
          "name": "stdout",
          "text": [
            "Максимальная глубина дерева:  4\n"
          ]
        }
      ],
      "source": [
        "def count_depth(tree):\n",
        "  depth = 0\n",
        "  queue = [(tree, depth)]\n",
        "\n",
        "  while len(queue) > 0:\n",
        "      head, depth = queue.pop(0)\n",
        "      queue.extend([(c, depth + 1) for c in head.children])\n",
        "      # print(\"checking\", head.token[\"form\"])\n",
        "  return depth\n",
        "\n",
        "\n",
        "print(\"Максимальная глубина дерева: \", max(count_depth(taiga_tree), count_depth(str_tree)))"
      ]
    }
  ],
  "metadata": {
    "colab": {
      "provenance": [],
      "toc_visible": true
    },
    "kernelspec": {
      "display_name": "Python 3",
      "language": "python",
      "name": "python3"
    },
    "language_info": {
      "codemirror_mode": {
        "name": "ipython",
        "version": 3
      },
      "file_extension": ".py",
      "mimetype": "text/x-python",
      "name": "python",
      "nbconvert_exporter": "python",
      "pygments_lexer": "ipython3",
      "version": "3.7.6"
    }
  },
  "nbformat": 4,
  "nbformat_minor": 0
}