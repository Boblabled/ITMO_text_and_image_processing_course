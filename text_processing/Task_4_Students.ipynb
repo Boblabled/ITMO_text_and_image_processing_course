{
 "cells": [
  {
   "cell_type": "markdown",
   "metadata": {
    "colab_type": "text",
    "id": "yLYpSPDlW9LC"
   },
   "source": [
    "## Скачиваем необходимое\n",
    "\n",
    "Сначала нужно средствами NLTK загрузить WordNet.\n",
    "\n"
   ]
  },
  {
   "cell_type": "code",
   "metadata": {
    "colab": {
     "base_uri": "https://localhost:8080/",
     "height": 73
    },
    "colab_type": "code",
    "executionInfo": {
     "elapsed": 3804,
     "status": "ok",
     "timestamp": 1600020035301,
     "user": {
      "displayName": "Anton Alekseev",
      "photoUrl": "https://lh3.googleusercontent.com/a-/AOh14Gj3c5faIb1FbtmpoOW4fAhquuPiaBf1d85jPrZJ-g=s64",
      "userId": "02913249699061138905"
     },
     "user_tz": -180
    },
    "id": "YhTQ6EFXZ5R9",
    "outputId": "b9e976e9-2692-457d-b0ff-866869787d67",
    "ExecuteTime": {
     "end_time": "2025-06-04T19:13:54.013550Z",
     "start_time": "2025-06-04T19:13:54.010044Z"
    }
   },
   "source": [
    "import nltk\n",
    "from nltk.corpus import wordnet as wn\n",
    "nltk.download('wordnet')"
   ],
   "outputs": [
    {
     "name": "stderr",
     "output_type": "stream",
     "text": [
      "[nltk_data] Downloading package wordnet to\n",
      "[nltk_data]     C:\\Users\\Yo\\AppData\\Roaming\\nltk_data...\n",
      "[nltk_data]   Package wordnet is already up-to-date!\n"
     ]
    },
    {
     "data": {
      "text/plain": [
       "True"
      ]
     },
     "execution_count": 11,
     "metadata": {},
     "output_type": "execute_result"
    }
   ],
   "execution_count": 11
  },
  {
   "cell_type": "markdown",
   "metadata": {
    "colab_type": "text",
    "id": "EIQ4rEytvwLZ"
   },
   "source": [
    "## Готовим данные к работе\n",
    "\n",
    "Затем импортируем данные из подготовленного текстового файла. Файл содержит набор пар слов (только имён существительных), для которых известны экспертные оценки сходства.\n",
    "\n",
    "Строим ассоциативный массив \"пара слов -- оценка близости\"."
   ]
  },
  {
   "cell_type": "code",
   "metadata": {
    "colab": {},
    "colab_type": "code",
    "executionInfo": {
     "elapsed": 2212,
     "status": "ok",
     "timestamp": 1600020038741,
     "user": {
      "displayName": "Anton Alekseev",
      "photoUrl": "https://lh3.googleusercontent.com/a-/AOh14Gj3c5faIb1FbtmpoOW4fAhquuPiaBf1d85jPrZJ-g=s64",
      "userId": "02913249699061138905"
     },
     "user_tz": -180
    },
    "id": "_sTFACx3dAk8",
    "ExecuteTime": {
     "end_time": "2025-06-04T19:13:54.024064Z",
     "start_time": "2025-06-04T19:13:54.021069Z"
    }
   },
   "source": [
    "with open(\"data/wordsim_similarity_goldstandard.txt\", encoding=\"utf-8\") as rf:\n",
    "  triples = [line.strip().split(\"\\t\") for line in rf.readlines()]\n",
    "  score_map = {tuple(triple[:2]): float(triple[2]) for triple in triples}"
   ],
   "outputs": [],
   "execution_count": 12
  },
  {
   "metadata": {
    "ExecuteTime": {
     "end_time": "2025-06-04T19:13:54.038955Z",
     "start_time": "2025-06-04T19:13:54.035461Z"
    }
   },
   "cell_type": "code",
   "source": [
    "import csv\n",
    "\n",
    "score_map = {}\n",
    "with open('data/Task_4_sample_13.csv', 'r', newline='') as csvfile:\n",
    "  spamreader = csv.reader(csvfile, delimiter=',', quotechar='|')\n",
    "  first = True\n",
    "  for w1, w2, score in spamreader:\n",
    "      if first:\n",
    "          first = False\n",
    "          continue\n",
    "      score_map[(w1, w2)] = float(score)"
   ],
   "outputs": [],
   "execution_count": 13
  },
  {
   "metadata": {
    "ExecuteTime": {
     "end_time": "2025-06-04T19:13:54.052296Z",
     "start_time": "2025-06-04T19:13:54.048072Z"
    }
   },
   "cell_type": "code",
   "source": "score_map",
   "outputs": [
    {
     "data": {
      "text/plain": [
       "{('bird', 'cock'): 7.1,\n",
       " ('start', 'year'): 4.06,\n",
       " ('vodka', 'brandy'): 8.13,\n",
       " ('bread', 'butter'): 6.19,\n",
       " ('cup', 'article'): 2.4,\n",
       " ('street', 'place'): 6.44,\n",
       " ('stock', 'phone'): 1.62,\n",
       " ('street', 'children'): 4.94,\n",
       " ('direction', 'combination'): 2.25,\n",
       " ('cemetery', 'woodland'): 2.08,\n",
       " ('dollar', 'yen'): 7.78,\n",
       " ('Harvard', 'Yale'): 8.13,\n",
       " ('month', 'hotel'): 1.81,\n",
       " ('delay', 'news'): 3.31,\n",
       " ('announcement', 'production'): 3.38,\n",
       " ('plane', 'car'): 5.77,\n",
       " ('mile', 'kilometer'): 8.66,\n",
       " ('championship', 'tournament'): 8.36,\n",
       " ('space', 'chemistry'): 4.88,\n",
       " ('minority', 'peace'): 3.69,\n",
       " ('food', 'fruit'): 7.52,\n",
       " ('coast', 'shore'): 9.1,\n",
       " ('precedent', 'collection'): 2.5,\n",
       " ('rooster', 'voyage'): 0.62,\n",
       " ('monk', 'oracle'): 5.0,\n",
       " ('cup', 'entity'): 2.15,\n",
       " ('midday', 'noon'): 9.29,\n",
       " ('school', 'center'): 3.44,\n",
       " ('street', 'block'): 6.88,\n",
       " ('asylum', 'madhouse'): 8.87,\n",
       " ('opera', 'performance'): 6.88,\n",
       " ('seafood', 'lobster'): 8.7,\n",
       " ('board', 'recommendation'): 4.47,\n",
       " ('precedent', 'example'): 5.85,\n",
       " ('skin', 'eye'): 6.22,\n",
       " ('lobster', 'wine'): 5.7,\n",
       " ('museum', 'theater'): 7.19,\n",
       " ('tiger', 'cat'): 7.35,\n",
       " ('atmosphere', 'landscape'): 3.69,\n",
       " ('reason', 'hypertension'): 2.31,\n",
       " ('crane', 'implement'): 2.69,\n",
       " ('deployment', 'departure'): 4.25,\n",
       " ('chord', 'smile'): 0.54,\n",
       " ('train', 'car'): 6.31,\n",
       " ('line', 'insurance'): 2.69,\n",
       " ('travel', 'activity'): 5.0,\n",
       " ('doctor', 'personnel'): 5.0,\n",
       " ('journal', 'association'): 4.97,\n",
       " ('practice', 'institution'): 3.19,\n",
       " ('stock', 'egg'): 1.81,\n",
       " ('life', 'term'): 4.5,\n",
       " ('glass', 'metal'): 5.56,\n",
       " ('Mexico', 'Brazil'): 7.44,\n",
       " ('governor', 'interview'): 3.25,\n",
       " ('money', 'currency'): 9.04,\n",
       " ('football', 'tennis'): 6.63,\n",
       " ('peace', 'atmosphere'): 3.69,\n",
       " ('smart', 'student'): 4.62,\n",
       " ('cup', 'substance'): 1.92,\n",
       " ('life', 'death'): 7.88,\n",
       " ('president', 'medal'): 3.0,\n",
       " ('coast', 'forest'): 3.15,\n",
       " ('prejudice', 'recognition'): 3.0,\n",
       " ('money', 'cash'): 9.15,\n",
       " ('viewer', 'serial'): 2.97,\n",
       " ('precedent', 'group'): 1.77,\n",
       " ('doctor', 'nurse'): 7.0,\n",
       " ('focus', 'life'): 4.06,\n",
       " ('precedent', 'antecedent'): 6.04,\n",
       " ('liquid', 'water'): 7.89,\n",
       " ('music', 'project'): 3.63,\n",
       " ('type', 'kind'): 8.97,\n",
       " ('professor', 'cucumber'): 0.31,\n",
       " ('word', 'similarity'): 4.75,\n",
       " ('sugar', 'approach'): 0.88,\n",
       " ('announcement', 'news'): 7.56,\n",
       " ('vodka', 'gin'): 8.46,\n",
       " ('marathon', 'sprint'): 7.47,\n",
       " ('architecture', 'century'): 3.78,\n",
       " ('five', 'month'): 3.38,\n",
       " ('production', 'hike'): 1.75,\n",
       " ('car', 'automobile'): 8.94,\n",
       " ('king', 'cabbage'): 0.23,\n",
       " ('energy', 'secretary'): 1.81,\n",
       " ('football', 'basketball'): 6.81,\n",
       " ('ministry', 'culture'): 4.69,\n",
       " ('theater', 'history'): 3.91,\n",
       " ('noon', 'string'): 0.54,\n",
       " ('seafood', 'food'): 8.34,\n",
       " ('start', 'match'): 4.47,\n",
       " ('monk', 'slave'): 0.92,\n",
       " ('image', 'surface'): 4.56,\n",
       " ('dividend', 'payment'): 7.63,\n",
       " ('drink', 'ear'): 1.31,\n",
       " ('peace', 'plan'): 4.75,\n",
       " ('computer', 'news'): 4.47,\n",
       " ('cup', 'object'): 3.69,\n",
       " ('listing', 'proximity'): 2.56,\n",
       " ('stock', 'CD'): 1.31,\n",
       " ('food', 'rooster'): 4.42,\n",
       " ('football', 'soccer'): 9.03,\n",
       " ('forest', 'graveyard'): 1.85,\n",
       " ('money', 'operation'): 3.31,\n",
       " ('dollar', 'buck'): 9.22,\n",
       " ('psychology', 'discipline'): 5.58,\n",
       " ('man', 'governor'): 5.25,\n",
       " ('wood', 'forest'): 7.73,\n",
       " ('benchmark', 'index'): 4.25,\n",
       " ('street', 'avenue'): 8.88,\n",
       " ('planet', 'sun'): 8.02,\n",
       " ('media', 'gain'): 2.88,\n",
       " ('consumer', 'energy'): 4.75,\n",
       " ('drink', 'mother'): 2.65,\n",
       " ('morality', 'importance'): 3.31,\n",
       " ('planet', 'moon'): 8.08,\n",
       " ('Japanese', 'American'): 6.5,\n",
       " ('morality', 'marriage'): 3.69,\n",
       " ('aluminum', 'metal'): 7.83,\n",
       " ('tiger', 'organism'): 4.77,\n",
       " ('king', 'queen'): 8.58,\n",
       " ('television', 'radio'): 6.77,\n",
       " ('opera', 'industry'): 2.63,\n",
       " ('problem', 'airport'): 2.38,\n",
       " ('profit', 'warning'): 3.88,\n",
       " ('rock', 'jazz'): 7.59,\n",
       " ('cucumber', 'potato'): 5.92,\n",
       " ('cup', 'food'): 5.0,\n",
       " ('calculation', 'computation'): 8.44,\n",
       " ('experience', 'music'): 3.47,\n",
       " ('furnace', 'stove'): 8.79,\n",
       " ('jaguar', 'cat'): 7.42,\n",
       " ('drink', 'car'): 3.04,\n",
       " ('king', 'rook'): 5.92,\n",
       " ('profit', 'loss'): 7.63,\n",
       " ('hospital', 'infrastructure'): 4.63,\n",
       " ('cell', 'phone'): 7.81,\n",
       " ('stock', 'jaguar'): 0.92,\n",
       " ('smart', 'stupid'): 5.81,\n",
       " ('lad', 'brother'): 4.46,\n",
       " ('shore', 'woodland'): 3.08,\n",
       " ('murder', 'manslaughter'): 8.53,\n",
       " ('tiger', 'tiger'): 10.0,\n",
       " ('phone', 'equipment'): 7.13,\n",
       " ('situation', 'isolation'): 3.88,\n",
       " ('media', 'trading'): 3.88,\n",
       " ('development', 'issue'): 3.97,\n",
       " ('tiger', 'mammal'): 6.85,\n",
       " ('century', 'year'): 7.59,\n",
       " ('situation', 'conclusion'): 4.81,\n",
       " ('Mars', 'water'): 2.94}"
      ]
     },
     "execution_count": 14,
     "metadata": {},
     "output_type": "execute_result"
    }
   ],
   "execution_count": 14
  },
  {
   "cell_type": "markdown",
   "metadata": {},
   "source": [
    "Отметим, что из исходного набора данных мы взяли только экспертные оценки сходства (similarity) и только для существительных. Исходный набор данных доступен по [ссылке](http://alfonseca.org/pubs/ws353simrel.tar.gz)"
   ]
  },
  {
   "cell_type": "markdown",
   "metadata": {
    "colab_type": "text",
    "id": "96B0OtKrvtaG"
   },
   "source": [
    "Посмотрим на примеры оценок. \n",
    "\n",
    "У слов может быть по несколько значений, которые различаются в WordNet. Здесь -- ради примера -- мы будем \"жадно\" выбирать первое попавшееся, но далее будем работать с ними иначе.\n",
    "\n",
    "\n"
   ]
  },
  {
   "cell_type": "code",
   "metadata": {
    "colab": {
     "base_uri": "https://localhost:8080/",
     "height": 166
    },
    "colab_type": "code",
    "executionInfo": {
     "elapsed": 10602,
     "status": "ok",
     "timestamp": 1600020204121,
     "user": {
      "displayName": "Anton Alekseev",
      "photoUrl": "https://lh3.googleusercontent.com/a-/AOh14Gj3c5faIb1FbtmpoOW4fAhquuPiaBf1d85jPrZJ-g=s64",
      "userId": "02913249699061138905"
     },
     "user_tz": -180
    },
    "id": "7iXamIiZgf-O",
    "outputId": "c5b3c7ea-c476-4235-f474-b1358c584ddf",
    "ExecuteTime": {
     "end_time": "2025-06-04T19:13:54.064037Z",
     "start_time": "2025-06-04T19:13:54.060039Z"
    }
   },
   "source": [
    "for w1, w2 in list(score_map)[:2]:\n",
    "  \n",
    "  print(\"\\nWords: %s-%s\\nGround truth score: %.2f\" % (w1, w2, score_map[(w1, w2)]))\n",
    "  \n",
    "  ss1 = wn.synset(w1 + \".n.01\")\n",
    "  ss2 = wn.synset(w2 + \".n.01\")\n",
    "\n",
    "  print(\"\\nPath: %.3f\" % ss1.path_similarity(ss2), end=\" \")\n",
    "  print(\"\\nwup: %.3f\" % ss1.wup_similarity(ss2), end=\" \")\n",
    "  print(\"\\nshortest_path: %.3f\" % ss1.shortest_path_distance(ss2))"
   ],
   "outputs": [
    {
     "name": "stdout",
     "output_type": "stream",
     "text": [
      "\n",
      "Words: bird-cock\n",
      "Ground truth score: 7.10\n",
      "\n",
      "Path: 0.062 \n",
      "wup: 0.211 \n",
      "shortest_path: 15.000\n",
      "\n",
      "Words: start-year\n",
      "Ground truth score: 4.06\n",
      "\n",
      "Path: 0.100 \n",
      "wup: 0.308 \n",
      "shortest_path: 9.000\n"
     ]
    }
   ],
   "execution_count": 15
  },
  {
   "cell_type": "markdown",
   "metadata": {
    "colab_type": "text",
    "id": "ZHM7tCb0vqNp"
   },
   "source": [
    "Вычисляем для всех пар несколько оценок"
   ]
  },
  {
   "cell_type": "code",
   "metadata": {
    "colab": {
     "base_uri": "https://localhost:8080/",
     "height": 54
    },
    "colab_type": "code",
    "executionInfo": {
     "elapsed": 2405,
     "status": "ok",
     "timestamp": 1600020239260,
     "user": {
      "displayName": "Anton Alekseev",
      "photoUrl": "https://lh3.googleusercontent.com/a-/AOh14Gj3c5faIb1FbtmpoOW4fAhquuPiaBf1d85jPrZJ-g=s64",
      "userId": "02913249699061138905"
     },
     "user_tz": -180
    },
    "id": "fe7Nuglqgnd3",
    "outputId": "1ffb3b01-d567-49d8-8e67-0849fac19aac",
    "ExecuteTime": {
     "end_time": "2025-06-04T19:13:54.618001Z",
     "start_time": "2025-06-04T19:13:54.069475Z"
    }
   },
   "source": [
    "from itertools import product\n",
    "\n",
    "list_pairs = list(score_map)\n",
    "wup_list, true_list, path_list, lch_list = [], [], [], []\n",
    "\n",
    "# для всех пар\n",
    "for w1, w2 in list_pairs:\n",
    "\n",
    "  try:\n",
    "    all_w1 = wn.synsets(w1, pos=\"n\")\n",
    "    all_w2 = wn.synsets(w2, pos=\"n\")\n",
    "\n",
    "    # добавляем интересующие нас метрики и экспертные оценки\n",
    "    wup = max([item1.wup_similarity(item2) \\\n",
    "                for item1, item2 in product(all_w1, all_w2)])\n",
    "    wup_list.append(wup)\n",
    "\n",
    "    path = max([item1.path_similarity(item2) \\\n",
    "                for item1, item2 in product(all_w1, all_w2)])\n",
    "    path_list.append(path)\n",
    "    \n",
    "    lch = max([item1.lch_similarity(item2) \\\n",
    "                for item1, item2 in product(all_w1, all_w2)])\n",
    "    lch_list.append(path)\n",
    "    \n",
    "    true_list.append(score_map[(w1, w2)])\n",
    "\n",
    "  except Exception as e:\n",
    "    print(w1, w2, \"error:\", e)"
   ],
   "outputs": [],
   "execution_count": 16
  },
  {
   "cell_type": "markdown",
   "metadata": {
    "colab_type": "text",
    "id": "oAjuTLB0fD-I"
   },
   "source": [
    "## Вычисляем ранговую корреляцию Спирмена"
   ]
  },
  {
   "cell_type": "code",
   "metadata": {
    "colab": {
     "base_uri": "https://localhost:8080/",
     "height": 73
    },
    "colab_type": "code",
    "executionInfo": {
     "elapsed": 896,
     "status": "ok",
     "timestamp": 1600020271203,
     "user": {
      "displayName": "Anton Alekseev",
      "photoUrl": "https://lh3.googleusercontent.com/a-/AOh14Gj3c5faIb1FbtmpoOW4fAhquuPiaBf1d85jPrZJ-g=s64",
      "userId": "02913249699061138905"
     },
     "user_tz": -180
    },
    "id": "fXnCdw8wxcVd",
    "outputId": "c9e2b06c-5a27-45e8-a400-36113a3d7516",
    "ExecuteTime": {
     "end_time": "2025-06-04T19:13:54.627367Z",
     "start_time": "2025-06-04T19:13:54.622896Z"
    }
   },
   "source": [
    "from scipy.stats import spearmanr\n",
    "\n",
    "coef, p = spearmanr(path_list, true_list)\n",
    "print(\"path Spearman R: %.4f\" % coef)\n",
    "\n",
    "coef, p = spearmanr(lch_list, true_list)\n",
    "print(\"lch Spearman R: %.4f\" % coef)\n",
    "\n",
    "coef, p = spearmanr(wup_list, true_list)\n",
    "print(\"wup  Spearman R: %.4f\" % coef)\n"
   ],
   "outputs": [
    {
     "name": "stdout",
     "output_type": "stream",
     "text": [
      "path Spearman R: 0.6254\n",
      "lch Spearman R: 0.6254\n",
      "wup  Spearman R: 0.6343\n"
     ]
    }
   ],
   "execution_count": 17
  },
  {
   "metadata": {},
   "cell_type": "markdown",
   "source": "При помощи метода hyponyms() найдите количество гипонимов для синсета dollar.n.01, а также при помощи метода name() найдите значение первого в гипонима из списка."
  },
  {
   "metadata": {
    "ExecuteTime": {
     "end_time": "2025-06-04T19:13:54.709530Z",
     "start_time": "2025-06-04T19:13:54.706434Z"
    }
   },
   "cell_type": "code",
   "source": [
    "synset = \"dollar.n.01\"\n",
    "hyponyms = wn.synset(synset).hyponyms()\n",
    "len(hyponyms)"
   ],
   "outputs": [
    {
     "data": {
      "text/plain": [
       "23"
      ]
     },
     "execution_count": 18,
     "metadata": {},
     "output_type": "execute_result"
    }
   ],
   "execution_count": 18
  },
  {
   "metadata": {
    "ExecuteTime": {
     "end_time": "2025-06-04T19:13:54.800975Z",
     "start_time": "2025-06-04T19:13:54.797976Z"
    }
   },
   "cell_type": "code",
   "source": "sorted(hyponyms)[0].name()",
   "outputs": [
    {
     "data": {
      "text/plain": [
       "'australian_dollar.n.01'"
      ]
     },
     "execution_count": 19,
     "metadata": {},
     "output_type": "execute_result"
    }
   ],
   "execution_count": 19
  }
 ],
 "metadata": {
  "colab": {
   "authorship_tag": "ABX9TyMdSweN9al2eyjg9hAVK+U1",
   "collapsed_sections": [],
   "name": "04_лексические ресурсы.ipynb",
   "provenance": []
  },
  "kernelspec": {
   "display_name": "Python 3",
   "language": "python",
   "name": "python3"
  },
  "language_info": {
   "codemirror_mode": {
    "name": "ipython",
    "version": 3
   },
   "file_extension": ".py",
   "mimetype": "text/x-python",
   "name": "python",
   "nbconvert_exporter": "python",
   "pygments_lexer": "ipython3",
   "version": "3.7.6"
  }
 },
 "nbformat": 4,
 "nbformat_minor": 4
}
