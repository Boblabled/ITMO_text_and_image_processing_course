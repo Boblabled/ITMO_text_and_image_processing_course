{
 "nbformat": 4,
 "nbformat_minor": 0,
 "metadata": {
  "colab": {
   "provenance": []
  },
  "kernelspec": {
   "display_name": "Python 3",
   "language": "python",
   "name": "python3"
  },
  "language_info": {
   "codemirror_mode": {
    "name": "ipython",
    "version": 3
   },
   "file_extension": ".py",
   "mimetype": "text/x-python",
   "name": "python",
   "nbconvert_exporter": "python",
   "pygments_lexer": "ipython3",
   "version": "3.7.6"
  },
  "widgets": {
   "application/vnd.jupyter.widget-state+json": {
    "a98d593d71ae439ca9ac1f8b098ca3ba": {
     "model_module": "@jupyter-widgets/controls",
     "model_name": "HBoxModel",
     "model_module_version": "1.5.0",
     "state": {
      "_dom_classes": [],
      "_model_module": "@jupyter-widgets/controls",
      "_model_module_version": "1.5.0",
      "_model_name": "HBoxModel",
      "_view_count": null,
      "_view_module": "@jupyter-widgets/controls",
      "_view_module_version": "1.5.0",
      "_view_name": "HBoxView",
      "box_style": "",
      "children": [
       "IPY_MODEL_415e01d25b2a4266a55c93f2448f2e36",
       "IPY_MODEL_bcfb62080e95442695085a010cd658f6",
       "IPY_MODEL_1bc7d377ad534421954f7aa14e37fdec"
      ],
      "layout": "IPY_MODEL_d23e13ca03704d6db89d21a9128674e4"
     }
    },
    "415e01d25b2a4266a55c93f2448f2e36": {
     "model_module": "@jupyter-widgets/controls",
     "model_name": "HTMLModel",
     "model_module_version": "1.5.0",
     "state": {
      "_dom_classes": [],
      "_model_module": "@jupyter-widgets/controls",
      "_model_module_version": "1.5.0",
      "_model_name": "HTMLModel",
      "_view_count": null,
      "_view_module": "@jupyter-widgets/controls",
      "_view_module_version": "1.5.0",
      "_view_name": "HTMLView",
      "description": "",
      "description_tooltip": null,
      "layout": "IPY_MODEL_ecf533decfbf42ec880f0d60e901f422",
      "placeholder": "​",
      "style": "IPY_MODEL_ff38e25cb3364698bcb0fa3f2fd875c3",
      "value": "sentences: 100%"
     }
    },
    "bcfb62080e95442695085a010cd658f6": {
     "model_module": "@jupyter-widgets/controls",
     "model_name": "FloatProgressModel",
     "model_module_version": "1.5.0",
     "state": {
      "_dom_classes": [],
      "_model_module": "@jupyter-widgets/controls",
      "_model_module_version": "1.5.0",
      "_model_name": "FloatProgressModel",
      "_view_count": null,
      "_view_module": "@jupyter-widgets/controls",
      "_view_module_version": "1.5.0",
      "_view_name": "ProgressView",
      "bar_style": "success",
      "description": "",
      "description_tooltip": null,
      "layout": "IPY_MODEL_c0c686aef0324eb6a2a4a8a64291a9a8",
      "max": 532,
      "min": 0,
      "orientation": "horizontal",
      "style": "IPY_MODEL_fbae8493fbbe4fcb9ed8ae7c50df70ab",
      "value": 532
     }
    },
    "1bc7d377ad534421954f7aa14e37fdec": {
     "model_module": "@jupyter-widgets/controls",
     "model_name": "HTMLModel",
     "model_module_version": "1.5.0",
     "state": {
      "_dom_classes": [],
      "_model_module": "@jupyter-widgets/controls",
      "_model_module_version": "1.5.0",
      "_model_name": "HTMLModel",
      "_view_count": null,
      "_view_module": "@jupyter-widgets/controls",
      "_view_module_version": "1.5.0",
      "_view_name": "HTMLView",
      "description": "",
      "description_tooltip": null,
      "layout": "IPY_MODEL_b2c124615e324f7fa64d41128b80dc8d",
      "placeholder": "​",
      "style": "IPY_MODEL_07aef2e0505e4543bff0c8863e43973f",
      "value": " 532/532 [00:00&lt;00:00, 21787.74it/s]"
     }
    },
    "d23e13ca03704d6db89d21a9128674e4": {
     "model_module": "@jupyter-widgets/base",
     "model_name": "LayoutModel",
     "model_module_version": "1.2.0",
     "state": {
      "_model_module": "@jupyter-widgets/base",
      "_model_module_version": "1.2.0",
      "_model_name": "LayoutModel",
      "_view_count": null,
      "_view_module": "@jupyter-widgets/base",
      "_view_module_version": "1.2.0",
      "_view_name": "LayoutView",
      "align_content": null,
      "align_items": null,
      "align_self": null,
      "border": null,
      "bottom": null,
      "display": null,
      "flex": null,
      "flex_flow": null,
      "grid_area": null,
      "grid_auto_columns": null,
      "grid_auto_flow": null,
      "grid_auto_rows": null,
      "grid_column": null,
      "grid_gap": null,
      "grid_row": null,
      "grid_template_areas": null,
      "grid_template_columns": null,
      "grid_template_rows": null,
      "height": null,
      "justify_content": null,
      "justify_items": null,
      "left": null,
      "margin": null,
      "max_height": null,
      "max_width": null,
      "min_height": null,
      "min_width": null,
      "object_fit": null,
      "object_position": null,
      "order": null,
      "overflow": null,
      "overflow_x": null,
      "overflow_y": null,
      "padding": null,
      "right": null,
      "top": null,
      "visibility": null,
      "width": null
     }
    },
    "ecf533decfbf42ec880f0d60e901f422": {
     "model_module": "@jupyter-widgets/base",
     "model_name": "LayoutModel",
     "model_module_version": "1.2.0",
     "state": {
      "_model_module": "@jupyter-widgets/base",
      "_model_module_version": "1.2.0",
      "_model_name": "LayoutModel",
      "_view_count": null,
      "_view_module": "@jupyter-widgets/base",
      "_view_module_version": "1.2.0",
      "_view_name": "LayoutView",
      "align_content": null,
      "align_items": null,
      "align_self": null,
      "border": null,
      "bottom": null,
      "display": null,
      "flex": null,
      "flex_flow": null,
      "grid_area": null,
      "grid_auto_columns": null,
      "grid_auto_flow": null,
      "grid_auto_rows": null,
      "grid_column": null,
      "grid_gap": null,
      "grid_row": null,
      "grid_template_areas": null,
      "grid_template_columns": null,
      "grid_template_rows": null,
      "height": null,
      "justify_content": null,
      "justify_items": null,
      "left": null,
      "margin": null,
      "max_height": null,
      "max_width": null,
      "min_height": null,
      "min_width": null,
      "object_fit": null,
      "object_position": null,
      "order": null,
      "overflow": null,
      "overflow_x": null,
      "overflow_y": null,
      "padding": null,
      "right": null,
      "top": null,
      "visibility": null,
      "width": null
     }
    },
    "ff38e25cb3364698bcb0fa3f2fd875c3": {
     "model_module": "@jupyter-widgets/controls",
     "model_name": "DescriptionStyleModel",
     "model_module_version": "1.5.0",
     "state": {
      "_model_module": "@jupyter-widgets/controls",
      "_model_module_version": "1.5.0",
      "_model_name": "DescriptionStyleModel",
      "_view_count": null,
      "_view_module": "@jupyter-widgets/base",
      "_view_module_version": "1.2.0",
      "_view_name": "StyleView",
      "description_width": ""
     }
    },
    "c0c686aef0324eb6a2a4a8a64291a9a8": {
     "model_module": "@jupyter-widgets/base",
     "model_name": "LayoutModel",
     "model_module_version": "1.2.0",
     "state": {
      "_model_module": "@jupyter-widgets/base",
      "_model_module_version": "1.2.0",
      "_model_name": "LayoutModel",
      "_view_count": null,
      "_view_module": "@jupyter-widgets/base",
      "_view_module_version": "1.2.0",
      "_view_name": "LayoutView",
      "align_content": null,
      "align_items": null,
      "align_self": null,
      "border": null,
      "bottom": null,
      "display": null,
      "flex": null,
      "flex_flow": null,
      "grid_area": null,
      "grid_auto_columns": null,
      "grid_auto_flow": null,
      "grid_auto_rows": null,
      "grid_column": null,
      "grid_gap": null,
      "grid_row": null,
      "grid_template_areas": null,
      "grid_template_columns": null,
      "grid_template_rows": null,
      "height": null,
      "justify_content": null,
      "justify_items": null,
      "left": null,
      "margin": null,
      "max_height": null,
      "max_width": null,
      "min_height": null,
      "min_width": null,
      "object_fit": null,
      "object_position": null,
      "order": null,
      "overflow": null,
      "overflow_x": null,
      "overflow_y": null,
      "padding": null,
      "right": null,
      "top": null,
      "visibility": null,
      "width": null
     }
    },
    "fbae8493fbbe4fcb9ed8ae7c50df70ab": {
     "model_module": "@jupyter-widgets/controls",
     "model_name": "ProgressStyleModel",
     "model_module_version": "1.5.0",
     "state": {
      "_model_module": "@jupyter-widgets/controls",
      "_model_module_version": "1.5.0",
      "_model_name": "ProgressStyleModel",
      "_view_count": null,
      "_view_module": "@jupyter-widgets/base",
      "_view_module_version": "1.2.0",
      "_view_name": "StyleView",
      "bar_color": null,
      "description_width": ""
     }
    },
    "b2c124615e324f7fa64d41128b80dc8d": {
     "model_module": "@jupyter-widgets/base",
     "model_name": "LayoutModel",
     "model_module_version": "1.2.0",
     "state": {
      "_model_module": "@jupyter-widgets/base",
      "_model_module_version": "1.2.0",
      "_model_name": "LayoutModel",
      "_view_count": null,
      "_view_module": "@jupyter-widgets/base",
      "_view_module_version": "1.2.0",
      "_view_name": "LayoutView",
      "align_content": null,
      "align_items": null,
      "align_self": null,
      "border": null,
      "bottom": null,
      "display": null,
      "flex": null,
      "flex_flow": null,
      "grid_area": null,
      "grid_auto_columns": null,
      "grid_auto_flow": null,
      "grid_auto_rows": null,
      "grid_column": null,
      "grid_gap": null,
      "grid_row": null,
      "grid_template_areas": null,
      "grid_template_columns": null,
      "grid_template_rows": null,
      "height": null,
      "justify_content": null,
      "justify_items": null,
      "left": null,
      "margin": null,
      "max_height": null,
      "max_width": null,
      "min_height": null,
      "min_width": null,
      "object_fit": null,
      "object_position": null,
      "order": null,
      "overflow": null,
      "overflow_x": null,
      "overflow_y": null,
      "padding": null,
      "right": null,
      "top": null,
      "visibility": null,
      "width": null
     }
    },
    "07aef2e0505e4543bff0c8863e43973f": {
     "model_module": "@jupyter-widgets/controls",
     "model_name": "DescriptionStyleModel",
     "model_module_version": "1.5.0",
     "state": {
      "_model_module": "@jupyter-widgets/controls",
      "_model_module_version": "1.5.0",
      "_model_name": "DescriptionStyleModel",
      "_view_count": null,
      "_view_module": "@jupyter-widgets/base",
      "_view_module_version": "1.2.0",
      "_view_name": "StyleView",
      "description_width": ""
     }
    }
   }
  }
 },
 "cells": [
  {
   "cell_type": "markdown",
   "metadata": {
    "id": "LUuyLVDZ4s8r"
   },
   "source": [
    "## ЗАДАНИЕ ДЛЯ ПРОГРАММИРУЮЩИХ"
   ]
  },
  {
   "cell_type": "markdown",
   "metadata": {
    "id": "gwrBkeLnHuA1"
   },
   "source": [
    "Устанавливаем библиотеки (Не обращаем внимания на возможные предупреждения о несоответствии версий библиотек). При установке нужной версии Numpy необходимо перезапустить среду, это также производится кодом в этой ячейке."
   ]
  },
  {
   "cell_type": "code",
   "source": [
    "import warnings\n",
    "warnings.filterwarnings('ignore')\n",
    "!pip install -q numpy==1.24.4\n",
    "import os\n",
    "os.kill(os.getpid(), 9)"
   ],
   "metadata": {
    "colab": {
     "base_uri": "https://localhost:8080/"
    },
    "id": "1ruXgHwURid-",
    "outputId": "1373b5bd-08c0-4018-f6cf-83ee481f80ef",
    "jupyter": {
     "is_executing": true
    },
    "ExecuteTime": {
     "end_time": "2025-06-01T12:47:52.102151700Z",
     "start_time": "2025-06-01T12:47:37.080517Z"
    }
   },
   "outputs": [
    {
     "output_type": "stream",
     "name": "stdout",
     "text": [
      "\u001B[31mERROR: pip's dependency resolver does not currently take into account all the packages that are installed. This behaviour is the source of the following dependency conflicts.\n",
      "tensorflow 2.12.0 requires numpy<1.24,>=1.22, but you have numpy 1.24.4 which is incompatible.\n",
      "pymc 5.22.0 requires numpy>=1.25.0, but you have numpy 1.24.4 which is incompatible.\n",
      "blosc2 3.3.3 requires numpy>=1.26, but you have numpy 1.24.4 which is incompatible.\n",
      "tensorflow-text 2.18.1 requires tensorflow<2.19,>=2.18.0, but you have tensorflow 2.12.0 which is incompatible.\n",
      "tensorflow-decision-forests 1.11.0 requires tensorflow==2.18.0, but you have tensorflow 2.12.0 which is incompatible.\n",
      "orbax-checkpoint 0.11.13 requires jax>=0.5.0, but you have jax 0.4.30 which is incompatible.\n",
      "thinc 8.3.6 requires numpy<3.0.0,>=2.0.0, but you have numpy 1.24.4 which is incompatible.\n",
      "tf-keras 2.18.0 requires tensorflow<2.19,>=2.18, but you have tensorflow 2.12.0 which is incompatible.\n",
      "flax 0.10.6 requires jax>=0.5.1, but you have jax 0.4.30 which is incompatible.\n",
      "treescope 0.1.9 requires numpy>=1.25.2, but you have numpy 1.24.4 which is incompatible.\n",
      "ydf 0.12.0 requires protobuf<6.0.0,>=5.29.1, but you have protobuf 4.25.8 which is incompatible.\u001B[0m\u001B[31m\n",
      "\u001B[0m"
     ]
    }
   ],
   "execution_count": null
  },
  {
   "cell_type": "code",
   "metadata": {
    "id": "H5Fr5swwYfz5",
    "colab": {
     "base_uri": "https://localhost:8080/"
    },
    "outputId": "f3f7978c-928b-488f-edc2-74b41a2363a3"
   },
   "source": [
    "!pip install -q tensorflow==2.12\n",
    "!pip install -q git+https://github.com/dvolchek/rnnmorph.git"
   ],
   "execution_count": 1,
   "outputs": [
    {
     "output_type": "stream",
     "name": "stdout",
     "text": [
      "\u001B[31mERROR: pip's dependency resolver does not currently take into account all the packages that are installed. This behaviour is the source of the following dependency conflicts.\n",
      "imbalanced-learn 0.13.0 requires numpy<3,>=1.24.3, but you have numpy 1.23.5 which is incompatible.\n",
      "pymc 5.22.0 requires numpy>=1.25.0, but you have numpy 1.23.5 which is incompatible.\n",
      "xarray 2025.3.1 requires numpy>=1.24, but you have numpy 1.23.5 which is incompatible.\n",
      "blosc2 3.3.3 requires numpy>=1.26, but you have numpy 1.23.5 which is incompatible.\n",
      "scikit-image 0.25.2 requires numpy>=1.24, but you have numpy 1.23.5 which is incompatible.\n",
      "tensorflow-text 2.18.1 requires tensorflow<2.19,>=2.18.0, but you have tensorflow 2.12.0 which is incompatible.\n",
      "tensorflow-decision-forests 1.11.0 requires tensorflow==2.18.0, but you have tensorflow 2.12.0 which is incompatible.\n",
      "chex 0.1.89 requires numpy>=1.24.1, but you have numpy 1.23.5 which is incompatible.\n",
      "orbax-checkpoint 0.11.13 requires jax>=0.5.0, but you have jax 0.4.30 which is incompatible.\n",
      "albucore 0.0.24 requires numpy>=1.24.4, but you have numpy 1.23.5 which is incompatible.\n",
      "bigframes 2.4.0 requires numpy>=1.24.0, but you have numpy 1.23.5 which is incompatible.\n",
      "db-dtypes 1.4.3 requires numpy>=1.24.0, but you have numpy 1.23.5 which is incompatible.\n",
      "thinc 8.3.6 requires numpy<3.0.0,>=2.0.0, but you have numpy 1.23.5 which is incompatible.\n",
      "tf-keras 2.18.0 requires tensorflow<2.19,>=2.18, but you have tensorflow 2.12.0 which is incompatible.\n",
      "flax 0.10.6 requires jax>=0.5.1, but you have jax 0.4.30 which is incompatible.\n",
      "albumentations 2.0.7 requires numpy>=1.24.4, but you have numpy 1.23.5 which is incompatible.\n",
      "treescope 0.1.9 requires numpy>=1.25.2, but you have numpy 1.23.5 which is incompatible.\n",
      "ydf 0.12.0 requires protobuf<6.0.0,>=5.29.1, but you have protobuf 4.25.8 which is incompatible.\u001B[0m\u001B[31m\n",
      "\u001B[0m  Preparing metadata (setup.py) ... \u001B[?25l\u001B[?25hdone\n",
      "  Preparing metadata (setup.py) ... \u001B[?25l\u001B[?25hdone\n"
     ]
    }
   ]
  },
  {
   "cell_type": "markdown",
   "metadata": {
    "id": "gbxMKqhPH1Dk"
   },
   "source": [
    "Создаём объект морфологического анализатора `RNNMorph`"
   ]
  },
  {
   "cell_type": "code",
   "metadata": {
    "id": "24zMUhvi99AV",
    "ExecuteTime": {
     "end_time": "2025-06-01T12:48:37.204886Z",
     "start_time": "2025-06-01T12:48:36.923119Z"
    }
   },
   "source": [
    "from rnnmorph.predictor import RNNMorphPredictor\n",
    "predictor = RNNMorphPredictor(language=\"ru\")"
   ],
   "outputs": [],
   "execution_count": 2
  },
  {
   "cell_type": "markdown",
   "metadata": {
    "id": "59q1L9p0H9K9"
   },
   "source": [
    "Скачиваем текст, по которому будет дано задание, с помощью `urllib`"
   ]
  },
  {
   "cell_type": "markdown",
   "metadata": {
    "id": "xwJ5Q6w2IFHA"
   },
   "source": [
    "**Ссылка**, на источник текста"
   ]
  },
  {
   "cell_type": "code",
   "metadata": {
    "id": "64uxt-07IEec"
   },
   "source": [
    "DATA_URL = \"http://az.lib.ru/t/turgenew_i_s/text_0070.shtml\""
   ],
   "execution_count": 5,
   "outputs": []
  },
  {
   "cell_type": "code",
   "metadata": {
    "id": "0uW0fw_h-Pft"
   },
   "source": [
    "import urllib.request\n",
    "\n",
    "opener = urllib.request.URLopener({})\n",
    "resource = opener.open(DATA_URL)\n",
    "raw_text = resource.read().decode(resource.headers.get_content_charset()) #Текс с html тегами"
   ],
   "execution_count": 6,
   "outputs": []
  },
  {
   "cell_type": "code",
   "metadata": {
    "colab": {
     "base_uri": "https://localhost:8080/",
     "height": 36
    },
    "id": "-hSPOjDo4sdh",
    "outputId": "fc489da5-ca14-402d-d97c-06364b1447bc"
   },
   "source": [
    "raw_text[:200]"
   ],
   "execution_count": 7,
   "outputs": [
    {
     "output_type": "execute_result",
     "data": {
      "text/plain": [
       "'<html>\\r\\n<head>\\r\\n<title>Lib.ru/Классика: Тургенев Иван Сергеевич. Муму</title>\\r\\n</head>\\r\\n\\r\\n<body>\\r\\n\\r\\n\\r\\n<center>\\r\\n\\r\\n<h2><a href=/t/turgenew_i_s/>Тургенев Иван Сергеевич</a><br>\\r\\nМуму</h2>\\r\\n\\r\\n<!------- П'"
      ],
      "application/vnd.google.colaboratory.intrinsic+json": {
       "type": "string"
      }
     },
     "metadata": {},
     "execution_count": 7
    }
   ]
  },
  {
   "cell_type": "markdown",
   "metadata": {
    "id": "uZiLHQNSITAt"
   },
   "source": [
    "Как видно, текст содержит html теги, от которых нужно избавиться. Выбрасываем из текста HTML-теги с помощью библиотеки Beatiful soap"
   ]
  },
  {
   "cell_type": "code",
   "metadata": {
    "id": "We4LkyUMPfuq"
   },
   "source": [
    "from bs4 import BeautifulSoup\n",
    "soup = BeautifulSoup(raw_text, features=\"html.parser\")\n",
    "\n",
    "# kill all script and style elements\n",
    "for script in soup([\"script\", \"style\"]):\n",
    "    script.extract()    # rip it out\n",
    "\n",
    "# get text\n",
    "cleaned_text = soup.get_text()"
   ],
   "execution_count": 8,
   "outputs": []
  },
  {
   "cell_type": "code",
   "metadata": {
    "colab": {
     "base_uri": "https://localhost:8080/",
     "height": 36
    },
    "id": "lOD8PJnG4rbl",
    "outputId": "71947839-a3a3-4a29-f4c0-6af6c62f2bcc"
   },
   "source": [
    "cleaned_text[:200]"
   ],
   "execution_count": 9,
   "outputs": [
    {
     "output_type": "execute_result",
     "data": {
      "text/plain": [
       "'\\n\\nLib.ru/Классика: Тургенев Иван Сергеевич. Муму\\n\\n\\n\\nТургенев Иван Сергеевич\\r\\nМуму\\n\\n\\nLib.ru/Классика:\\n\\r\\n\\n\\n[Регистрация]\\n \\n\\r\\n\\r\\n\\r\\n[Найти] \\r\\n[Рейтинги]\\r\\n[Обсуждения]\\r\\n[Новинки]\\r\\n[Обзоры]\\r\\n[Помощь]\\r\\n\\r\\n\\n\\n\\n\\n'"
      ],
      "application/vnd.google.colaboratory.intrinsic+json": {
       "type": "string"
      }
     },
     "metadata": {},
     "execution_count": 9
    }
   ]
  },
  {
   "cell_type": "markdown",
   "metadata": {
    "id": "14fYYb5hIpnY"
   },
   "source": [
    "С помощью библиотеки [NLTK](https://nltk.org/) разбиваем текст на предложения и токены."
   ]
  },
  {
   "cell_type": "code",
   "metadata": {
    "colab": {
     "base_uri": "https://localhost:8080/",
     "height": 110
    },
    "id": "hRNu7jPvN6G_",
    "outputId": "56b72266-fac0-48cb-9d90-5247b54f5ae1"
   },
   "source": [
    "from nltk.tokenize import sent_tokenize, word_tokenize\n",
    "import nltk\n",
    "nltk.download('punkt')\n",
    "nltk.download('punkt_tab')\n",
    "\n",
    "tokenized_sentences = [word_tokenize(sentence) for sentence in sent_tokenize(cleaned_text)]\n",
    "\"A total of %d 'sentences'\" % len(tokenized_sentences)"
   ],
   "execution_count": 10,
   "outputs": [
    {
     "output_type": "stream",
     "name": "stderr",
     "text": [
      "[nltk_data] Downloading package punkt to /root/nltk_data...\n",
      "[nltk_data]   Package punkt is already up-to-date!\n",
      "[nltk_data] Downloading package punkt_tab to /root/nltk_data...\n",
      "[nltk_data]   Package punkt_tab is already up-to-date!\n"
     ]
    },
    {
     "output_type": "execute_result",
     "data": {
      "text/plain": [
       "\"A total of 532 'sentences'\""
      ],
      "application/vnd.google.colaboratory.intrinsic+json": {
       "type": "string"
      }
     },
     "metadata": {},
     "execution_count": 10
    }
   ]
  },
  {
   "cell_type": "markdown",
   "metadata": {
    "id": "xRU4KEBAIyYT"
   },
   "source": [
    "## Задание 1\n",
    "С помощью метода `str.isalpha` из стандартной библиотеки Python модифицируйте нижеследующий код так, чтобы в predictions остались только буквенные токены."
   ]
  },
  {
   "cell_type": "code",
   "metadata": {
    "colab": {
     "base_uri": "https://localhost:8080/",
     "height": 510,
     "referenced_widgets": [
      "a98d593d71ae439ca9ac1f8b098ca3ba",
      "415e01d25b2a4266a55c93f2448f2e36",
      "bcfb62080e95442695085a010cd658f6",
      "1bc7d377ad534421954f7aa14e37fdec",
      "d23e13ca03704d6db89d21a9128674e4",
      "ecf533decfbf42ec880f0d60e901f422",
      "ff38e25cb3364698bcb0fa3f2fd875c3",
      "c0c686aef0324eb6a2a4a8a64291a9a8",
      "fbae8493fbbe4fcb9ed8ae7c50df70ab",
      "b2c124615e324f7fa64d41128b80dc8d",
      "07aef2e0505e4543bff0c8863e43973f"
     ]
    },
    "id": "4U5HH2CDPVUM",
    "outputId": "d3d0538a-9eee-41ad-c60f-cf844b033d9a"
   },
   "source": [
    "from tqdm.notebook import tqdm\n",
    "predictions = [[pred.normal_form for pred in sent]\n",
    "               for sent in tqdm(predictor.predict_sentences(sentences=tokenized_sentences), \"sentences\") ]\n",
    "\n",
    "new_predictions = []\n",
    "for sentance in predictions:\n",
    "  new_sentance = []\n",
    "  for word in sentance:\n",
    "    if word.isalpha():\n",
    "      new_sentance.append(word)\n",
    "\n",
    "  if len(new_sentance) > 0:\n",
    "    new_predictions.append(new_sentance)\n",
    "\n",
    "predictions = new_predictions\n",
    "predictions[-11:-10]"
   ],
   "execution_count": 20,
   "outputs": [
    {
     "output_type": "stream",
     "name": "stdout",
     "text": [
      "9/9 [==============================] - 8s 915ms/step\n"
     ]
    },
    {
     "output_type": "display_data",
     "data": {
      "text/plain": [
       "sentences:   0%|          | 0/532 [00:00<?, ?it/s]"
      ],
      "application/vnd.jupyter.widget-view+json": {
       "version_major": 2,
       "version_minor": 0,
       "model_id": "a98d593d71ae439ca9ac1f8b098ca3ba"
      }
     },
     "metadata": {}
    },
    {
     "output_type": "execute_result",
     "data": {
      "text/plain": [
       "[['барыня',\n",
       "  'несколько',\n",
       "  'успокоиться',\n",
       "  'сперва',\n",
       "  'быть',\n",
       "  'отдать',\n",
       "  'приказание',\n",
       "  'немедленно',\n",
       "  'вытребовать',\n",
       "  'он',\n",
       "  'назад',\n",
       "  'в',\n",
       "  'москва',\n",
       "  'потом',\n",
       "  'однако',\n",
       "  'объявить',\n",
       "  'что',\n",
       "  'такой',\n",
       "  'неблагодарный',\n",
       "  'человек',\n",
       "  'он',\n",
       "  'вовсе',\n",
       "  'не',\n",
       "  'нужный']]"
      ]
     },
     "metadata": {},
     "execution_count": 20
    }
   ]
  },
  {
   "cell_type": "code",
   "metadata": {
    "colab": {
     "base_uri": "https://localhost:8080/"
    },
    "id": "nwK_qRbw6sac",
    "outputId": "87563e42-7fce-406c-9b61-4b69582b4cb0"
   },
   "source": [
    "len(predictions)"
   ],
   "execution_count": 21,
   "outputs": [
    {
     "output_type": "execute_result",
     "data": {
      "text/plain": [
       "525"
      ]
     },
     "metadata": {},
     "execution_count": 21
    }
   ]
  },
  {
   "cell_type": "code",
   "metadata": {
    "id": "J5jL4sWyKUnO",
    "colab": {
     "base_uri": "https://localhost:8080/"
    },
    "outputId": "88d607e6-4ac9-4375-aa65-74a80f0ea48b"
   },
   "source": [
    "non_uniq_tokens = [word for sentence in predictions for word in sentence]\n",
    "len(non_uniq_tokens)\n"
   ],
   "execution_count": 22,
   "outputs": [
    {
     "output_type": "execute_result",
     "data": {
      "text/plain": [
       "8354"
      ]
     },
     "metadata": {},
     "execution_count": 22
    }
   ]
  },
  {
   "cell_type": "markdown",
   "metadata": {
    "id": "Yg2e-1hAKiT3"
   },
   "source": [
    "Для продолжения работы над заданием числа должны быть близки к указанным"
   ]
  },
  {
   "cell_type": "markdown",
   "metadata": {
    "id": "Mci9Nd5hKuJP"
   },
   "source": [
    "## Задание 2\n",
    "\n",
    "Используя `non_uniq_tokens`, стоп-слова для русского языка из библиотеки nltk (`nltk.corpus.stopwords`) и `nltk.FreqDist`, вычислите, **какую долю среди 50 самых частотных** токенов в произведении занимают токены, **не относящиеся** к стоп словам.\n",
    "\n",
    "**Например**, если среди 100 самых частотных слов встречается 25 слов, входящих в стоп лист, значит не входят в стоп лист 75 слов, и их доля составит 0.75.\n",
    "\n",
    "**Не бойтесь использовать документацию NLTK и тьюториалы.**"
   ]
  },
  {
   "cell_type": "code",
   "metadata": {
    "colab": {
     "base_uri": "https://localhost:8080/"
    },
    "id": "gHbtLqkLKfZC",
    "outputId": "ef151e9c-5ac0-41d6-d682-cfb3f8ffe240"
   },
   "source": [
    "import nltk\n",
    "from nltk import FreqDist\n",
    "from nltk.corpus import stopwords\n",
    "nltk.download(\"stopwords\")\n",
    "STOPWORDS = set(stopwords.words(\"russian\"))\n",
    "stopwords.words(\"russian\")[:5] #Пример стоп слов"
   ],
   "execution_count": 23,
   "outputs": [
    {
     "output_type": "stream",
     "name": "stderr",
     "text": [
      "[nltk_data] Downloading package stopwords to /root/nltk_data...\n",
      "[nltk_data]   Unzipping corpora/stopwords.zip.\n"
     ]
    },
    {
     "output_type": "execute_result",
     "data": {
      "text/plain": [
       "['и', 'в', 'во', 'не', 'что']"
      ]
     },
     "metadata": {},
     "execution_count": 23
    }
   ]
  },
  {
   "cell_type": "code",
   "source": [
    "fdist = FreqDist()\n",
    "for sentance in predictions:\n",
    "  for word in sentance:\n",
    "    fdist[word.lower()] += 1"
   ],
   "metadata": {
    "id": "9REubjtA1qqa"
   },
   "execution_count": 24,
   "outputs": []
  },
  {
   "cell_type": "code",
   "source": [
    "stopwords_in_top = 0\n",
    "n = 50\n",
    "for word, _ in fdist.most_common(n):\n",
    "  if word in STOPWORDS:\n",
    "    stopwords_in_top += 1\n",
    "\n",
    "good_tokens_freq = (n - stopwords_in_top) / n\n",
    "good_tokens_freq"
   ],
   "metadata": {
    "colab": {
     "base_uri": "https://localhost:8080/"
    },
    "id": "puJrkiHj2g5D",
    "outputId": "d1f402a7-461a-453a-8ed5-66a08e9925b7"
   },
   "execution_count": 37,
   "outputs": [
    {
     "output_type": "execute_result",
     "data": {
      "text/plain": [
       "0.36"
      ]
     },
     "metadata": {},
     "execution_count": 37
    }
   ]
  },
  {
   "cell_type": "markdown",
   "metadata": {
    "id": "HChyAdk2Ovx1"
   },
   "source": [
    "## Задание 3\n",
    "Вычислите, сколько токенов встречается в тексте **строго больше** 20 раз."
   ]
  },
  {
   "cell_type": "code",
   "source": [
    "n = 20\n",
    "ans = 0\n",
    "for _, count in fdist.items():\n",
    "  if count > n:\n",
    "    ans += 1\n",
    "ans\n",
    "\n",
    "# Быль сказка неё слово выкинешь"
   ],
   "metadata": {
    "colab": {
     "base_uri": "https://localhost:8080/"
    },
    "id": "vlirz01P4Y6T",
    "outputId": "a3e67480-ea4c-450a-d1b6-ac500f54b9f8"
   },
   "execution_count": 36,
   "outputs": [
    {
     "output_type": "execute_result",
     "data": {
      "text/plain": [
       "52"
      ]
     },
     "metadata": {},
     "execution_count": 36
    }
   ]
  }
 ]
}
