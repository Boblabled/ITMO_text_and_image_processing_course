{
 "cells": [
  {
   "metadata": {},
   "cell_type": "markdown",
   "source": "# Text procession",
   "id": "8f53eb89861bfe15"
  },
  {
   "cell_type": "code",
   "id": "initial_id",
   "metadata": {
    "collapsed": true,
    "ExecuteTime": {
     "end_time": "2025-06-13T13:19:49.152952Z",
     "start_time": "2025-06-13T13:19:49.149857Z"
    }
   },
   "source": [
    "import math\n",
    "\n",
    "docs = [\n",
    "    \"asked date distribution expires frequently gmt keywords may questions upcoming world\",\n",
    "    \"die following gave god john loved much offers paraphrase place son us world\",\n",
    "    \"asked date distribution expires frequently gmt keywords may questions space world\",\n",
    "    \"cambridge consultants distribution lines logic mantis organization supersedes uk world\",\n",
    "    \"carolina chapel distribution hill lines north organization supersedes university world\",\n",
    "    \"article asphaug asphaug distribution erik lines organization sunconnect world writes\",\n",
    "    \"article champion distribution havemann minnesota organization paul paul twins usa world writes\",\n",
    "    \"approaching april armenians around family getting government massacres members ready remember turkish world\",\n",
    "    \"bought csr friend hey kaw motorcycles new pretty used wonderful world\",\n",
    "    \"come creed dead life look resurrection world\",\n",
    "    \"available bases beach blades cup following gameboy games ii loaded malibu metroid pitfighter robocop soccer spiderman steel t\",\n",
    "    \"article baby canada championships munich scored take today white world writes\",\n",
    "    \"add clipper debate distribution expires first lines reading things world\",\n",
    "    \"citizens citizens clearly countries cruptology encrypting listing policies private status throughout world\",\n",
    "    \"ago announcement bindings days got hello lines motif per posted requests send several update world\",\n",
    "    \"article boston hey luddington see series shawn valentine world writes\",\n",
    "    \"anonymous around chaining files found ftp graphical interesting looking meshes program studio stuff world\",\n",
    "    \"article excerpt jrm might missed news report world writes\",\n",
    "    \"bring dealer defect distribution flyback monitors replace world\",\n",
    "    \"attempting hello ibm pc purposes simulator students teaching workings world write\"\n",
    "]\n",
    "doc_set = list(set(doc.split()) for doc in docs)"
   ],
   "outputs": [],
   "execution_count": 13
  },
  {
   "metadata": {
    "ExecuteTime": {
     "end_time": "2025-06-13T13:19:49.162524Z",
     "start_time": "2025-06-13T13:19:49.159017Z"
    }
   },
   "cell_type": "code",
   "source": [
    "def count_PPMI(docs, w0, w1) -> float:\n",
    "    both_count = 0\n",
    "    w0_count = 0\n",
    "    w1_count = 0\n",
    "    for doc in docs:\n",
    "        if w0 in doc:\n",
    "            w0_count += 1\n",
    "        if w1 in doc:\n",
    "            w1_count += 1\n",
    "        if w1 in doc and w0 in doc:\n",
    "            both_count += 1\n",
    "    \n",
    "    return max(0.0, math.log2((len(docs)*both_count) / (w0_count * w1_count)))\n",
    "    \n",
    "      "
   ],
   "id": "fa5cff04c1096646",
   "outputs": [],
   "execution_count": 14
  },
  {
   "metadata": {},
   "cell_type": "markdown",
   "source": [
    "Введите значение PPMI\n",
    " для термов `lines` и `organization`:"
   ],
   "id": "5a3f00cb8568cfd7"
  },
  {
   "metadata": {
    "ExecuteTime": {
     "end_time": "2025-06-13T13:19:49.174630Z",
     "start_time": "2025-06-13T13:19:49.172091Z"
    }
   },
   "cell_type": "code",
   "source": "print(\"%.3f\" % count_PPMI(doc_set, \"lines\", \"organization\"))",
   "id": "7e2ee7bf79fe83a1",
   "outputs": [
    {
     "name": "stdout",
     "output_type": "stream",
     "text": [
      "1.585\n"
     ]
    }
   ],
   "execution_count": 15
  },
  {
   "metadata": {},
   "cell_type": "markdown",
   "source": [
    "Введите значение PPMI\n",
    " для термов `article` и `world`:"
   ],
   "id": "cb6d9aff730dac73"
  },
  {
   "metadata": {
    "ExecuteTime": {
     "end_time": "2025-06-13T13:19:49.198814Z",
     "start_time": "2025-06-13T13:19:49.196209Z"
    }
   },
   "cell_type": "code",
   "source": "print(\"%.3f\" % count_PPMI(doc_set, \"article\", \"world\"))",
   "id": "e85d0b1665b386e4",
   "outputs": [
    {
     "name": "stdout",
     "output_type": "stream",
     "text": [
      "0.074\n"
     ]
    }
   ],
   "execution_count": 16
  },
  {
   "metadata": {},
   "cell_type": "markdown",
   "source": [
    "Введите значение PPMI\n",
    " для термов `world` и `organization`:"
   ],
   "id": "2604fc2dbf053c63"
  },
  {
   "metadata": {
    "ExecuteTime": {
     "end_time": "2025-06-13T13:19:49.221677Z",
     "start_time": "2025-06-13T13:19:49.218101Z"
    }
   },
   "cell_type": "code",
   "source": "print(\"%.3f\" % count_PPMI(doc_set, \"world\", \"organization\"))",
   "id": "f7cbc6a096cea5ed",
   "outputs": [
    {
     "name": "stdout",
     "output_type": "stream",
     "text": [
      "0.074\n"
     ]
    }
   ],
   "execution_count": 17
  },
  {
   "metadata": {},
   "cell_type": "markdown",
   "source": "# Image procession",
   "id": "1c31c0c1f7f1d935"
  },
  {
   "metadata": {
    "ExecuteTime": {
     "end_time": "2025-06-13T13:19:49.252702Z",
     "start_time": "2025-06-13T13:19:49.250755Z"
    }
   },
   "cell_type": "code",
   "source": [
    "import cv2\n",
    "import numpy as np\n",
    "import matplotlib.pyplot as plt\n",
    "import pywt"
   ],
   "id": "34dc0fa26308b9a3",
   "outputs": [],
   "execution_count": 18
  },
  {
   "metadata": {},
   "cell_type": "markdown",
   "source": "1. С помощью библиотеки OpenCV считайте изображение и преобразуйте в палитру RGB:",
   "id": "b2563518cab8e875"
  },
  {
   "metadata": {
    "ExecuteTime": {
     "end_time": "2025-06-13T13:19:49.387413Z",
     "start_time": "2025-06-13T13:19:49.276241Z"
    }
   },
   "cell_type": "code",
   "source": "image = cv2.imread(r\"image_processing\\data\\Test_exam\\1.jpg\", cv2.COLOR_BGR2RGB)",
   "id": "fa86cf80725c7fa3",
   "outputs": [],
   "execution_count": 19
  },
  {
   "metadata": {},
   "cell_type": "markdown",
   "source": "2. Сожмите изображение (далее сжатое изображение) до ширины `2304`, соблюдая пропорции исходного изображения. Важно: коэффициент отношения сторон при вычислениях не округляйте. Если высота не окажется целой, округлите значение до целого в меньшую сторону. Используйте `cv2.resize()` с параметром `interpolation = cv2.INTER_AREA`.",
   "id": "9cfd123773316b45"
  },
  {
   "metadata": {
    "ExecuteTime": {
     "end_time": "2025-06-13T13:19:49.397973Z",
     "start_time": "2025-06-13T13:19:49.392970Z"
    }
   },
   "cell_type": "code",
   "source": [
    "new_w = 2304\n",
    "koeff = image.shape[1] / image.shape[0]\n",
    "new_image = cv2.resize(image, (new_w, int(new_w / koeff)), interpolation = cv2.INTER_AREA)\n",
    "print(\"w / h = %.3f\" % koeff)\n",
    "print(\"new_h =\", new_image.shape[0])\n"
   ],
   "id": "aaff823e768434e2",
   "outputs": [
    {
     "name": "stdout",
     "output_type": "stream",
     "text": [
      "w / h = 1.333\n",
      "new_h = 1728\n"
     ]
    }
   ],
   "execution_count": 20
  },
  {
   "metadata": {},
   "cell_type": "markdown",
   "source": [
    "3. Постройте гистограмму сжатого изображения в палитре RGB. Сравните оценку плотностей распределения интенсивностей по каналам R, G и B.\n",
    "\n",
    "Введите наибольшее значение плотности среди трех каналов (результат введите с точностью до 4 знаков после запятой):"
   ],
   "id": "ee299e812a4f45b3"
  },
  {
   "metadata": {
    "ExecuteTime": {
     "end_time": "2025-06-13T13:19:49.829343Z",
     "start_time": "2025-06-13T13:19:49.405391Z"
    }
   },
   "cell_type": "code",
   "source": [
    "max_p = 0\n",
    "colors = [\"red\", \"green\", \"blue\"]\n",
    "for i in range(image.shape[2]):\n",
    "    hist = plt.hist(new_image[:, :, i].ravel(), bins=256, color=colors[i], density=True)\n",
    "    max_p = max(max_p, max(hist[0]))\n",
    "print(\"max_p: %.4f\" % max_p)"
   ],
   "id": "a8fb40d8a7ea4a38",
   "outputs": [
    {
     "name": "stdout",
     "output_type": "stream",
     "text": [
      "max_p: 0.0185\n"
     ]
    },
    {
     "data": {
      "text/plain": [
       "<Figure size 640x480 with 1 Axes>"
      ],
      "image/png": "[encoded data removed]"
     },
     "metadata": {},
     "output_type": "display_data"
    }
   ],
   "execution_count": 21
  },
  {
   "metadata": {},
   "cell_type": "markdown",
   "source": [
    "4. Выполните линейную нормировку и растяжение на диапазон `0−255`\n",
    " гистограммы по каналам R, G и B сжатого изображения.\n",
    "\n",
    "Определите интенсивность каналов R, G, B для пикселя, находящегося на пересечении `891`\n",
    " строки и `1146`\n",
    " столбца матричного представления изображения."
   ],
   "id": "54076ea46373bf1c"
  },
  {
   "metadata": {
    "ExecuteTime": {
     "end_time": "2025-06-13T13:20:35.249018Z",
     "start_time": "2025-06-13T13:20:35.178117Z"
    }
   },
   "cell_type": "code",
   "source": [
    "norm_image = new_image.copy()\n",
    "for i in range(image.shape[2]):\n",
    "    norm_image[:, :, i] = (norm_image[:, :, i] - norm_image[:, :, i].min()) / (norm_image[:, :, i].max() - norm_image[:, :, i].min()) * 255\n",
    "b, g, r = norm_image[891][1146]\n",
    "print(\"r:\", r)\n",
    "print(\"g:\", g)\n",
    "print(\"b:\", b)"
   ],
   "id": "e38de81bc1bd03fa",
   "outputs": [
    {
     "name": "stdout",
     "output_type": "stream",
     "text": [
      "r: 152\n",
      "g: 157\n",
      "b: 184\n"
     ]
    }
   ],
   "execution_count": 26
  },
  {
   "metadata": {},
   "cell_type": "markdown",
   "source": "5. Выполните вейвлет-преобразование Хаара для изображения полученного после шага 4.",
   "id": "df9c6a2a15de8b7d"
  },
  {
   "metadata": {
    "ExecuteTime": {
     "end_time": "2025-06-13T13:19:50.026278Z",
     "start_time": "2025-06-13T13:19:49.964705Z"
    }
   },
   "cell_type": "code",
   "source": "cA, _ = pywt.dwt2(cv2.cvtColor(norm_image, cv2.COLOR_BGR2GRAY), 'haar')",
   "id": "8b0bd0e1517f40a5",
   "outputs": [],
   "execution_count": 23
  },
  {
   "metadata": {},
   "cell_type": "markdown",
   "source": "6. Выполните повторное вейвлет-преобразование Хаара для набора `cA` шага 5.",
   "id": "e5f92a37b8ff70b8"
  },
  {
   "metadata": {
    "ExecuteTime": {
     "end_time": "2025-06-13T13:19:50.044697Z",
     "start_time": "2025-06-13T13:19:50.032185Z"
    }
   },
   "cell_type": "code",
   "source": [
    "c = pywt.dwt2(cA, 'haar')\n",
    "cA1, (cH1, cV1, cD1) = c"
   ],
   "id": "28cb684ce3bdd321",
   "outputs": [],
   "execution_count": 24
  },
  {
   "metadata": {},
   "cell_type": "markdown",
   "source": [
    "7. Обнулите коэффициенты меньшие по модулю значения threshold = `90` набора `cA1`.\n",
    "\n",
    "Введите количество таких коэффициентов:"
   ],
   "id": "3eb9df55d3fafe0"
  },
  {
   "metadata": {
    "ExecuteTime": {
     "end_time": "2025-06-13T13:19:50.058424Z",
     "start_time": "2025-06-13T13:19:50.052415Z"
    }
   },
   "cell_type": "code",
   "source": [
    "threshold = 90\n",
    "h1 = cA1.shape[0]\n",
    "zeros = 0\n",
    "for i in range(h1):\n",
    "    c[0][i][np.abs(c[0][i])<threshold] = 0.0\n",
    "    zeros += len(c[0][i][np.abs(c[0][i])<threshold]) \n",
    "zeros"
   ],
   "id": "f871a2fd261ff853",
   "outputs": [
    {
     "data": {
      "text/plain": [
       "286"
      ]
     },
     "execution_count": 25,
     "metadata": {},
     "output_type": "execute_result"
    }
   ],
   "execution_count": 25
  }
 ],
 "metadata": {
  "kernelspec": {
   "display_name": "Python 3",
   "language": "python",
   "name": "python3"
  },
  "language_info": {
   "codemirror_mode": {
    "name": "ipython",
    "version": 2
   },
   "file_extension": ".py",
   "mimetype": "text/x-python",
   "name": "python",
   "nbconvert_exporter": "python",
   "pygments_lexer": "ipython2",
   "version": "2.7.6"
  }
 },
 "nbformat": 4,
 "nbformat_minor": 5
}
